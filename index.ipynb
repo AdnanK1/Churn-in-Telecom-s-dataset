{
 "cells": [
  {
   "cell_type": "markdown",
   "metadata": {},
   "source": [
    "# Churn Prediction for Enhanced Customer Retention: Empowering SyriaTel's Telecom Business\n",
    "![Telecom image](images/telecom-image.jpg)"
   ]
  },
  {
   "cell_type": "markdown",
   "metadata": {
    "toc": true
   },
   "source": [
    "<h1>Table of Contents<span class=\"tocSkip\"></span></h1>\n",
    "<div class=\"toc\"><ul class=\"toc-item\"><li><span><a href=\"#Overview\" data-toc-modified-id=\"Overview-1\"><span class=\"toc-item-num\">1&nbsp;&nbsp;</span>Overview</a></span></li><li><span><a href=\"#Business-Understanding\" data-toc-modified-id=\"Business-Understanding-2\"><span class=\"toc-item-num\">2&nbsp;&nbsp;</span>Business Understanding</a></span><ul class=\"toc-item\"><li><span><a href=\"#Goals-and-Objectives\" data-toc-modified-id=\"Goals-and-Objectives-2.1\"><span class=\"toc-item-num\">2.1&nbsp;&nbsp;</span>Goals and Objectives</a></span></li><li><span><a href=\"#Problem-Statement\" data-toc-modified-id=\"Problem-Statement-2.2\"><span class=\"toc-item-num\">2.2&nbsp;&nbsp;</span>Problem Statement</a></span></li></ul></li><li><span><a href=\"#Data-Understanding\" data-toc-modified-id=\"Data-Understanding-3\"><span class=\"toc-item-num\">3&nbsp;&nbsp;</span>Data Understanding</a></span><ul class=\"toc-item\"><li><ul class=\"toc-item\"><li><span><a href=\"#These-are-the-columns-present-and-a-brief-information-about-each:\" data-toc-modified-id=\"These-are-the-columns-present-and-a-brief-information-about-each:-3.0.1\"><span class=\"toc-item-num\">3.0.1&nbsp;&nbsp;</span>These are the columns present and a brief information about each:</a></span></li></ul></li></ul></li><li><span><a href=\"#Data-Preparation\" data-toc-modified-id=\"Data-Preparation-4\"><span class=\"toc-item-num\">4&nbsp;&nbsp;</span>Data Preparation</a></span><ul class=\"toc-item\"><li><span><a href=\"#Identifying-missing-values\" data-toc-modified-id=\"Identifying-missing-values-4.1\"><span class=\"toc-item-num\">4.1&nbsp;&nbsp;</span>Identifying missing values</a></span></li><li><span><a href=\"#Identifying-duplicates\" data-toc-modified-id=\"Identifying-duplicates-4.2\"><span class=\"toc-item-num\">4.2&nbsp;&nbsp;</span>Identifying duplicates</a></span></li></ul></li><li><span><a href=\"#Data-Visualization\" data-toc-modified-id=\"Data-Visualization-5\"><span class=\"toc-item-num\">5&nbsp;&nbsp;</span>Data Visualization</a></span><ul class=\"toc-item\"><li><span><a href=\"#Visualizing-count-of-churned-customers\" data-toc-modified-id=\"Visualizing-count-of-churned-customers-5.1\"><span class=\"toc-item-num\">5.1&nbsp;&nbsp;</span>Visualizing count of churned customers</a></span></li><li><span><a href=\"#Total-Day-Calls-of-Churned-customers-vs-Retained-Customers\" data-toc-modified-id=\"Total-Day-Calls-of-Churned-customers-vs-Retained-Customers-5.2\"><span class=\"toc-item-num\">5.2&nbsp;&nbsp;</span>Total Day Calls of Churned customers vs Retained Customers</a></span></li><li><span><a href=\"#International-plans-status-for-both-churned-and-retained-customers.\" data-toc-modified-id=\"International-plans-status-for-both-churned-and-retained-customers.-5.3\"><span class=\"toc-item-num\">5.3&nbsp;&nbsp;</span>International plans status for both churned and retained customers.</a></span></li><li><span><a href=\"#Average-account-length-of-customers\" data-toc-modified-id=\"Average-account-length-of-customers-5.4\"><span class=\"toc-item-num\">5.4&nbsp;&nbsp;</span>Average account length of customers</a></span></li><li><span><a href=\"#How-does-Syriatel's-churn-rate-compare-to-industry-benchmarks-or-competitors?\" data-toc-modified-id=\"How-does-Syriatel's-churn-rate-compare-to-industry-benchmarks-or-competitors?-5.5\"><span class=\"toc-item-num\">5.5&nbsp;&nbsp;</span>How does Syriatel's churn rate compare to industry benchmarks or competitors?</a></span></li><li><span><a href=\"#Customer-service-calls-counts\" data-toc-modified-id=\"Customer-service-calls-counts-5.6\"><span class=\"toc-item-num\">5.6&nbsp;&nbsp;</span>Customer service calls counts</a></span></li><li><span><a href=\"#Average-charges-between-different-times-of-the-day-vs-average-minutes\" data-toc-modified-id=\"Average-charges-between-different-times-of-the-day-vs-average-minutes-5.7\"><span class=\"toc-item-num\">5.7&nbsp;&nbsp;</span>Average charges between different times of the day vs average minutes</a></span></li></ul></li><li><span><a href=\"#Data-Modeling\" data-toc-modified-id=\"Data-Modeling-6\"><span class=\"toc-item-num\">6&nbsp;&nbsp;</span>Data Modeling</a></span><ul class=\"toc-item\"><li><span><a href=\"#Base-Modeling\" data-toc-modified-id=\"Base-Modeling-6.1\"><span class=\"toc-item-num\">6.1&nbsp;&nbsp;</span>Base Modeling</a></span><ul class=\"toc-item\"><li><span><a href=\"#Performing-class-balancing\" data-toc-modified-id=\"Performing-class-balancing-6.1.1\"><span class=\"toc-item-num\">6.1.1&nbsp;&nbsp;</span>Performing class balancing</a></span></li></ul></li><li><span><a href=\"#Random-Forest-Model\" data-toc-modified-id=\"Random-Forest-Model-6.2\"><span class=\"toc-item-num\">6.2&nbsp;&nbsp;</span>Random Forest Model</a></span></li><li><span><a href=\"#Decision-Tree-Classifier\" data-toc-modified-id=\"Decision-Tree-Classifier-6.3\"><span class=\"toc-item-num\">6.3&nbsp;&nbsp;</span>Decision Tree Classifier</a></span></li></ul></li><li><span><a href=\"#Bagging-model\" data-toc-modified-id=\"Bagging-model-7\"><span class=\"toc-item-num\">7&nbsp;&nbsp;</span>Bagging model</a></span></li><li><span><a href=\"#KNN-Model\" data-toc-modified-id=\"KNN-Model-8\"><span class=\"toc-item-num\">8&nbsp;&nbsp;</span>KNN Model</a></span></li><li><span><a href=\"#XGBoost-model\" data-toc-modified-id=\"XGBoost-model-9\"><span class=\"toc-item-num\">9&nbsp;&nbsp;</span>XGBoost model</a></span></li><li><span><a href=\"#Conclusion\" data-toc-modified-id=\"Conclusion-10\"><span class=\"toc-item-num\">10&nbsp;&nbsp;</span>Conclusion</a></span></li><li><span><a href=\"#Recommendations\" data-toc-modified-id=\"Recommendations-11\"><span class=\"toc-item-num\">11&nbsp;&nbsp;</span>Recommendations</a></span></li></ul></div>"
   ]
  },
  {
   "cell_type": "markdown",
   "metadata": {},
   "source": [
    "## Overview\n",
    "In today's competitive telecommunications landscape, maintaining a loyal and satisfied customer base is of paramount importance. For companies like SyriaTel, identifying and addressing customer churn – the phenomenon of customers discontinuing their services – is a critical challenge that directly impacts both financial stability and business growth. This project endeavors to leverage advanced data analysis and predictive modeling techniques to develop a robust classifier capable of identifying customers who are at risk of churn.\n",
    "\n",
    "## Business Understanding\n",
    "SyriaTel, a prominent player in the telecommunications industry, faces a significant challenge in retaining its customer base. As customer preferences evolve and competition intensifies, minimizing churn, the departure of customers, becomes essential for maintaining financial stability and sustainable growth. This project seeks to develop an effective predictive model that identifies customers at risk of churning, enabling SyriaTel to implement proactive strategies for customer retention.\n",
    "\n",
    "### Goals and Objectives\n",
    "1.  **Reduce Customer Service Calls**\n",
    "\n",
    "By analyzing factors contributing to higher customer service call volumes, SyriaTel can proactively address service quality and billing issues, reducing customer frustration and potential churn.\n",
    "\n",
    "2. **Maximize Revenue from International Calls**\n",
    "\n",
    "The churn prediction model can help SyriaTel target customers with substantial international call usage, offering plans or incentives to encourage them to stay and continue using international services.\n",
    "\n",
    "3. **Explore Churn Patterns**\n",
    "\n",
    "Visualize churn rates across different categorical variables (e.g., state, international plan) to identify trends and potential influencing factors.\n",
    "\n",
    "4.  **Improve Nighttime Service Experience**\n",
    "\n",
    "Analyze the impact of nighttime call usage on churn and implement measures to enhance nighttime service quality. By understanding the relationship between nighttime call experience and churn, SyriaTel can invest in network improvements and service enhancements during nighttime hours.\n",
    "\n",
    "5. **Resource Optimization** \n",
    "With insights into which customers are more likely to churn, Syriatel can allocate its resources – be it marketing efforts, customer support, or promotional activities – more strategically and efficiently.\n",
    "\n",
    "### Problem Statement\n",
    "In the dynamic landscape of the telecommunications industry, fierce competition among various companies has become the norm. With multiple providers vying for market share and customer loyalty, maintaining a strong customer base has become increasingly challenging. One of the most pressing issues faced by telecom companies is the phenomenon of customer churn. As customers are presented with an array of options and enticing offers, telecom companies are confronted with the critical challenge of retaining their customers and ensuring long-term business viability.\n",
    "\n",
    "Syriatel, a prominent player in the telecommunications sector, is not immune to the challenges posed by heightened competition. As a leading provider, Syriatel recognizes the urgency of addressing customer churn head-on. To this end, Syriatel seeks to leverage advanced data analytics and predictive modeling techniques to enhance its customer retention strategies.\n",
    "\n",
    "The focus of this project is to create a robust churn prediction model that can anticipate when customers are at risk of churning. By harnessing the power of historical customer data, encompassing variables such as call patterns, account information, and service interactions, the proposed model aims to effectively categorize customers into segments based on their likelihood of churning. This predictive tool will serve as a proactive means for Syriatel to take targeted actions, implementing personalized retention initiatives and customer-centric interventions."
   ]
  },
  {
   "cell_type": "markdown",
   "metadata": {},
   "source": [
    "## Data Understanding\n",
    "In the provided dataset, we have a comprehensive collection of attributes that capture key aspects of customer interactions and behavior within the telecommunications world. The dataset encompasses details such as the customer's geographical location (state), account specifics (account length, area code), communication preferences (international plan, voice mail plan), and engagement levels (number of voice mail messages). Furthermore, the dataset dives into call usage patterns, including the duration and charges associated with daytime, evening, and nighttime calls, as well as international calls. Additionally, the dataset includes information on the number of calls made, the charges incurred, and the customer service interactions. Of particular importance is the binary \"churn\" indicator, which signifies whether a customer has ceased using SyriaTel's services. This dataset offers a comprehensive view of customer behavior, usage patterns and potential churn-related factors, forming the foundation for predictive modeling to anticipate and address customer churn in the telecommunications industry.\n",
    "\n",
    "#### These are the columns present and a brief information about each:\n",
    "\n",
    "| Column Name            | Description                                             |\n",
    "|------------------------|---------------------------------------------------------|\n",
    "| state                  | The state where the customer is located.                |\n",
    "| account length         | The duration, in days, of the customer's account with SyriaTel. |\n",
    "| area code              | The area code associated with the customer's phone number. |\n",
    "| phone number           | The unique phone number of the customer.                |\n",
    "| international plan     | Indicates whether the customer has an international calling plan or not. |\n",
    "| voice mail plan        | Indicates whether the customer has a voice mail plan or not. |\n",
    "| number vmail messages  | The number of voice mail messages the customer has.     |\n",
    "| total day minutes      | The total duration of daytime call usage, in minutes, by the customer. |\n",
    "| total day calls        | The total number of daytime calls made by the customer. |\n",
    "| total day charge       | The total charge for daytime calls incurred by the customer. |\n",
    "| total eve minutes      | The total duration of evening call usage, in minutes, by the customer. |\n",
    "| total eve calls        | The total number of evening calls made by the customer. |\n",
    "| total eve charge       | The total charge for evening calls incurred by the customer. |\n",
    "| total night minutes    | The total duration of nighttime call usage, in minutes, by the customer. |\n",
    "| total night calls      | The total number of nighttime calls made by the customer. |\n",
    "| total night charge     | The total charge for nighttime calls incurred by the customer. |\n",
    "| total intl minutes     | The total duration of international call usage, in minutes, by the customer. |\n",
    "| total intl calls       | The total number of international calls made by the customer. |\n",
    "| total intl charge      | The total charge for international calls incurred by the customer. |\n",
    "| customer service calls | The number of customer service calls made by the customer. |\n",
    "| churn                  | The target variable indicating whether the customer has churned (stopped using SyriaTel's services) or not. |\n"
   ]
  },
  {
   "cell_type": "markdown",
   "metadata": {},
   "source": [
    "## Data Preparation\n",
    "We first import the relevant packages:"
   ]
  },
  {
   "cell_type": "code",
   "execution_count": 57,
   "metadata": {},
   "outputs": [],
   "source": [
    "import pandas as pd\n",
    "import numpy as np\n",
    "import seaborn as sns\n",
    "import matplotlib.pyplot as plt\n",
    "import xgboost as xgb\n",
    "\n",
    "from sklearn.pipeline import Pipeline\n",
    "from sklearn.tree import DecisionTreeClassifier\n",
    "from sklearn.neighbors import KNeighborsClassifier\n",
    "from sklearn.linear_model import LogisticRegression\n",
    "from sklearn.preprocessing import StandardScaler, LabelEncoder\n",
    "from sklearn.ensemble import BaggingClassifier, RandomForestClassifier\n",
    "\n",
    "from sklearn.model_selection import train_test_split, cross_val_score, GridSearchCV, RandomizedSearchCV, KFold\n",
    "from sklearn.metrics import accuracy_score, f1_score, roc_curve, roc_auc_score, classification_report, precision_score, recall_score\n",
    "\n",
    "from imblearn.over_sampling import SMOTE\n",
    "\n",
    "#for model deployment\n",
    "import joblib\n",
    "\n",
    "#to ignore warnings\n",
    "import warnings\n",
    "warnings.filterwarnings('ignore')\n",
    "\n",
    "#setting style\n",
    "plt.style.use(\"seaborn-v0_8-darkgrid\")\n",
    "\n",
    "#plotting visualisations in the notebook\n",
    "%matplotlib inline"
   ]
  },
  {
   "cell_type": "code",
   "execution_count": 2,
   "metadata": {},
   "outputs": [
    {
     "data": {
      "text/html": [
       "<div>\n",
       "<style scoped>\n",
       "    .dataframe tbody tr th:only-of-type {\n",
       "        vertical-align: middle;\n",
       "    }\n",
       "\n",
       "    .dataframe tbody tr th {\n",
       "        vertical-align: top;\n",
       "    }\n",
       "\n",
       "    .dataframe thead th {\n",
       "        text-align: right;\n",
       "    }\n",
       "</style>\n",
       "<table border=\"1\" class=\"dataframe\">\n",
       "  <thead>\n",
       "    <tr style=\"text-align: right;\">\n",
       "      <th></th>\n",
       "      <th>state</th>\n",
       "      <th>account length</th>\n",
       "      <th>area code</th>\n",
       "      <th>phone number</th>\n",
       "      <th>international plan</th>\n",
       "      <th>voice mail plan</th>\n",
       "      <th>number vmail messages</th>\n",
       "      <th>total day minutes</th>\n",
       "      <th>total day calls</th>\n",
       "      <th>total day charge</th>\n",
       "      <th>...</th>\n",
       "      <th>total eve calls</th>\n",
       "      <th>total eve charge</th>\n",
       "      <th>total night minutes</th>\n",
       "      <th>total night calls</th>\n",
       "      <th>total night charge</th>\n",
       "      <th>total intl minutes</th>\n",
       "      <th>total intl calls</th>\n",
       "      <th>total intl charge</th>\n",
       "      <th>customer service calls</th>\n",
       "      <th>churn</th>\n",
       "    </tr>\n",
       "  </thead>\n",
       "  <tbody>\n",
       "    <tr>\n",
       "      <th>0</th>\n",
       "      <td>KS</td>\n",
       "      <td>128</td>\n",
       "      <td>415</td>\n",
       "      <td>382-4657</td>\n",
       "      <td>no</td>\n",
       "      <td>yes</td>\n",
       "      <td>25</td>\n",
       "      <td>265.1</td>\n",
       "      <td>110</td>\n",
       "      <td>45.07</td>\n",
       "      <td>...</td>\n",
       "      <td>99</td>\n",
       "      <td>16.78</td>\n",
       "      <td>244.7</td>\n",
       "      <td>91</td>\n",
       "      <td>11.01</td>\n",
       "      <td>10.0</td>\n",
       "      <td>3</td>\n",
       "      <td>2.70</td>\n",
       "      <td>1</td>\n",
       "      <td>False</td>\n",
       "    </tr>\n",
       "    <tr>\n",
       "      <th>1</th>\n",
       "      <td>OH</td>\n",
       "      <td>107</td>\n",
       "      <td>415</td>\n",
       "      <td>371-7191</td>\n",
       "      <td>no</td>\n",
       "      <td>yes</td>\n",
       "      <td>26</td>\n",
       "      <td>161.6</td>\n",
       "      <td>123</td>\n",
       "      <td>27.47</td>\n",
       "      <td>...</td>\n",
       "      <td>103</td>\n",
       "      <td>16.62</td>\n",
       "      <td>254.4</td>\n",
       "      <td>103</td>\n",
       "      <td>11.45</td>\n",
       "      <td>13.7</td>\n",
       "      <td>3</td>\n",
       "      <td>3.70</td>\n",
       "      <td>1</td>\n",
       "      <td>False</td>\n",
       "    </tr>\n",
       "    <tr>\n",
       "      <th>2</th>\n",
       "      <td>NJ</td>\n",
       "      <td>137</td>\n",
       "      <td>415</td>\n",
       "      <td>358-1921</td>\n",
       "      <td>no</td>\n",
       "      <td>no</td>\n",
       "      <td>0</td>\n",
       "      <td>243.4</td>\n",
       "      <td>114</td>\n",
       "      <td>41.38</td>\n",
       "      <td>...</td>\n",
       "      <td>110</td>\n",
       "      <td>10.30</td>\n",
       "      <td>162.6</td>\n",
       "      <td>104</td>\n",
       "      <td>7.32</td>\n",
       "      <td>12.2</td>\n",
       "      <td>5</td>\n",
       "      <td>3.29</td>\n",
       "      <td>0</td>\n",
       "      <td>False</td>\n",
       "    </tr>\n",
       "    <tr>\n",
       "      <th>3</th>\n",
       "      <td>OH</td>\n",
       "      <td>84</td>\n",
       "      <td>408</td>\n",
       "      <td>375-9999</td>\n",
       "      <td>yes</td>\n",
       "      <td>no</td>\n",
       "      <td>0</td>\n",
       "      <td>299.4</td>\n",
       "      <td>71</td>\n",
       "      <td>50.90</td>\n",
       "      <td>...</td>\n",
       "      <td>88</td>\n",
       "      <td>5.26</td>\n",
       "      <td>196.9</td>\n",
       "      <td>89</td>\n",
       "      <td>8.86</td>\n",
       "      <td>6.6</td>\n",
       "      <td>7</td>\n",
       "      <td>1.78</td>\n",
       "      <td>2</td>\n",
       "      <td>False</td>\n",
       "    </tr>\n",
       "    <tr>\n",
       "      <th>4</th>\n",
       "      <td>OK</td>\n",
       "      <td>75</td>\n",
       "      <td>415</td>\n",
       "      <td>330-6626</td>\n",
       "      <td>yes</td>\n",
       "      <td>no</td>\n",
       "      <td>0</td>\n",
       "      <td>166.7</td>\n",
       "      <td>113</td>\n",
       "      <td>28.34</td>\n",
       "      <td>...</td>\n",
       "      <td>122</td>\n",
       "      <td>12.61</td>\n",
       "      <td>186.9</td>\n",
       "      <td>121</td>\n",
       "      <td>8.41</td>\n",
       "      <td>10.1</td>\n",
       "      <td>3</td>\n",
       "      <td>2.73</td>\n",
       "      <td>3</td>\n",
       "      <td>False</td>\n",
       "    </tr>\n",
       "  </tbody>\n",
       "</table>\n",
       "<p>5 rows × 21 columns</p>\n",
       "</div>"
      ],
      "text/plain": [
       "  state  account length  area code phone number international plan  \\\n",
       "0    KS             128        415     382-4657                 no   \n",
       "1    OH             107        415     371-7191                 no   \n",
       "2    NJ             137        415     358-1921                 no   \n",
       "3    OH              84        408     375-9999                yes   \n",
       "4    OK              75        415     330-6626                yes   \n",
       "\n",
       "  voice mail plan  number vmail messages  total day minutes  total day calls  \\\n",
       "0             yes                     25              265.1              110   \n",
       "1             yes                     26              161.6              123   \n",
       "2              no                      0              243.4              114   \n",
       "3              no                      0              299.4               71   \n",
       "4              no                      0              166.7              113   \n",
       "\n",
       "   total day charge  ...  total eve calls  total eve charge  \\\n",
       "0             45.07  ...               99             16.78   \n",
       "1             27.47  ...              103             16.62   \n",
       "2             41.38  ...              110             10.30   \n",
       "3             50.90  ...               88              5.26   \n",
       "4             28.34  ...              122             12.61   \n",
       "\n",
       "   total night minutes  total night calls  total night charge  \\\n",
       "0                244.7                 91               11.01   \n",
       "1                254.4                103               11.45   \n",
       "2                162.6                104                7.32   \n",
       "3                196.9                 89                8.86   \n",
       "4                186.9                121                8.41   \n",
       "\n",
       "   total intl minutes  total intl calls  total intl charge  \\\n",
       "0                10.0                 3               2.70   \n",
       "1                13.7                 3               3.70   \n",
       "2                12.2                 5               3.29   \n",
       "3                 6.6                 7               1.78   \n",
       "4                10.1                 3               2.73   \n",
       "\n",
       "   customer service calls  churn  \n",
       "0                       1  False  \n",
       "1                       1  False  \n",
       "2                       0  False  \n",
       "3                       2  False  \n",
       "4                       3  False  \n",
       "\n",
       "[5 rows x 21 columns]"
      ]
     },
     "execution_count": 2,
     "metadata": {},
     "output_type": "execute_result"
    }
   ],
   "source": [
    "df = pd.read_csv(\"data/bigml_59c28831336c6604c800002a.csv\")\n",
    "df.head()"
   ]
  },
  {
   "cell_type": "code",
   "execution_count": 3,
   "metadata": {},
   "outputs": [
    {
     "data": {
      "text/plain": [
       "(3333, 21)"
      ]
     },
     "execution_count": 3,
     "metadata": {},
     "output_type": "execute_result"
    }
   ],
   "source": [
    "# Checking for the shape of the dataframe\n",
    "df.shape"
   ]
  },
  {
   "cell_type": "markdown",
   "metadata": {},
   "source": [
    "### Identifying missing values"
   ]
  },
  {
   "cell_type": "code",
   "execution_count": 4,
   "metadata": {},
   "outputs": [
    {
     "data": {
      "text/plain": [
       "state                     0\n",
       "account length            0\n",
       "area code                 0\n",
       "phone number              0\n",
       "international plan        0\n",
       "voice mail plan           0\n",
       "number vmail messages     0\n",
       "total day minutes         0\n",
       "total day calls           0\n",
       "total day charge          0\n",
       "total eve minutes         0\n",
       "total eve calls           0\n",
       "total eve charge          0\n",
       "total night minutes       0\n",
       "total night calls         0\n",
       "total night charge        0\n",
       "total intl minutes        0\n",
       "total intl calls          0\n",
       "total intl charge         0\n",
       "customer service calls    0\n",
       "churn                     0\n",
       "dtype: int64"
      ]
     },
     "execution_count": 4,
     "metadata": {},
     "output_type": "execute_result"
    }
   ],
   "source": [
    "# Checking for any missing values\n",
    "df.isna().sum()"
   ]
  },
  {
   "cell_type": "markdown",
   "metadata": {},
   "source": [
    "### Identifying duplicates"
   ]
  },
  {
   "cell_type": "code",
   "execution_count": 5,
   "metadata": {},
   "outputs": [
    {
     "data": {
      "text/plain": [
       "0"
      ]
     },
     "execution_count": 5,
     "metadata": {},
     "output_type": "execute_result"
    }
   ],
   "source": [
    "# Checking for duplicates in the dataframe\n",
    "df.duplicated().sum()"
   ]
  },
  {
   "cell_type": "code",
   "execution_count": 6,
   "metadata": {},
   "outputs": [
    {
     "name": "stdout",
     "output_type": "stream",
     "text": [
      "<class 'pandas.core.frame.DataFrame'>\n",
      "RangeIndex: 3333 entries, 0 to 3332\n",
      "Data columns (total 21 columns):\n",
      " #   Column                  Non-Null Count  Dtype  \n",
      "---  ------                  --------------  -----  \n",
      " 0   state                   3333 non-null   object \n",
      " 1   account length          3333 non-null   int64  \n",
      " 2   area code               3333 non-null   int64  \n",
      " 3   phone number            3333 non-null   object \n",
      " 4   international plan      3333 non-null   object \n",
      " 5   voice mail plan         3333 non-null   object \n",
      " 6   number vmail messages   3333 non-null   int64  \n",
      " 7   total day minutes       3333 non-null   float64\n",
      " 8   total day calls         3333 non-null   int64  \n",
      " 9   total day charge        3333 non-null   float64\n",
      " 10  total eve minutes       3333 non-null   float64\n",
      " 11  total eve calls         3333 non-null   int64  \n",
      " 12  total eve charge        3333 non-null   float64\n",
      " 13  total night minutes     3333 non-null   float64\n",
      " 14  total night calls       3333 non-null   int64  \n",
      " 15  total night charge      3333 non-null   float64\n",
      " 16  total intl minutes      3333 non-null   float64\n",
      " 17  total intl calls        3333 non-null   int64  \n",
      " 18  total intl charge       3333 non-null   float64\n",
      " 19  customer service calls  3333 non-null   int64  \n",
      " 20  churn                   3333 non-null   bool   \n",
      "dtypes: bool(1), float64(8), int64(8), object(4)\n",
      "memory usage: 524.2+ KB\n"
     ]
    }
   ],
   "source": [
    "# Checking the data the data types of the columns\n",
    "df.info()"
   ]
  },
  {
   "cell_type": "code",
   "execution_count": 7,
   "metadata": {},
   "outputs": [
    {
     "data": {
      "text/html": [
       "<div>\n",
       "<style scoped>\n",
       "    .dataframe tbody tr th:only-of-type {\n",
       "        vertical-align: middle;\n",
       "    }\n",
       "\n",
       "    .dataframe tbody tr th {\n",
       "        vertical-align: top;\n",
       "    }\n",
       "\n",
       "    .dataframe thead th {\n",
       "        text-align: right;\n",
       "    }\n",
       "</style>\n",
       "<table border=\"1\" class=\"dataframe\">\n",
       "  <thead>\n",
       "    <tr style=\"text-align: right;\">\n",
       "      <th></th>\n",
       "      <th>state</th>\n",
       "      <th>phone number</th>\n",
       "      <th>international plan</th>\n",
       "      <th>voice mail plan</th>\n",
       "    </tr>\n",
       "  </thead>\n",
       "  <tbody>\n",
       "    <tr>\n",
       "      <th>0</th>\n",
       "      <td>KS</td>\n",
       "      <td>382-4657</td>\n",
       "      <td>no</td>\n",
       "      <td>yes</td>\n",
       "    </tr>\n",
       "    <tr>\n",
       "      <th>1</th>\n",
       "      <td>OH</td>\n",
       "      <td>371-7191</td>\n",
       "      <td>no</td>\n",
       "      <td>yes</td>\n",
       "    </tr>\n",
       "    <tr>\n",
       "      <th>2</th>\n",
       "      <td>NJ</td>\n",
       "      <td>358-1921</td>\n",
       "      <td>no</td>\n",
       "      <td>no</td>\n",
       "    </tr>\n",
       "    <tr>\n",
       "      <th>3</th>\n",
       "      <td>OH</td>\n",
       "      <td>375-9999</td>\n",
       "      <td>yes</td>\n",
       "      <td>no</td>\n",
       "    </tr>\n",
       "    <tr>\n",
       "      <th>4</th>\n",
       "      <td>OK</td>\n",
       "      <td>330-6626</td>\n",
       "      <td>yes</td>\n",
       "      <td>no</td>\n",
       "    </tr>\n",
       "    <tr>\n",
       "      <th>...</th>\n",
       "      <td>...</td>\n",
       "      <td>...</td>\n",
       "      <td>...</td>\n",
       "      <td>...</td>\n",
       "    </tr>\n",
       "    <tr>\n",
       "      <th>3328</th>\n",
       "      <td>AZ</td>\n",
       "      <td>414-4276</td>\n",
       "      <td>no</td>\n",
       "      <td>yes</td>\n",
       "    </tr>\n",
       "    <tr>\n",
       "      <th>3329</th>\n",
       "      <td>WV</td>\n",
       "      <td>370-3271</td>\n",
       "      <td>no</td>\n",
       "      <td>no</td>\n",
       "    </tr>\n",
       "    <tr>\n",
       "      <th>3330</th>\n",
       "      <td>RI</td>\n",
       "      <td>328-8230</td>\n",
       "      <td>no</td>\n",
       "      <td>no</td>\n",
       "    </tr>\n",
       "    <tr>\n",
       "      <th>3331</th>\n",
       "      <td>CT</td>\n",
       "      <td>364-6381</td>\n",
       "      <td>yes</td>\n",
       "      <td>no</td>\n",
       "    </tr>\n",
       "    <tr>\n",
       "      <th>3332</th>\n",
       "      <td>TN</td>\n",
       "      <td>400-4344</td>\n",
       "      <td>no</td>\n",
       "      <td>yes</td>\n",
       "    </tr>\n",
       "  </tbody>\n",
       "</table>\n",
       "<p>3333 rows × 4 columns</p>\n",
       "</div>"
      ],
      "text/plain": [
       "     state phone number international plan voice mail plan\n",
       "0       KS     382-4657                 no             yes\n",
       "1       OH     371-7191                 no             yes\n",
       "2       NJ     358-1921                 no              no\n",
       "3       OH     375-9999                yes              no\n",
       "4       OK     330-6626                yes              no\n",
       "...    ...          ...                ...             ...\n",
       "3328    AZ     414-4276                 no             yes\n",
       "3329    WV     370-3271                 no              no\n",
       "3330    RI     328-8230                 no              no\n",
       "3331    CT     364-6381                yes              no\n",
       "3332    TN     400-4344                 no             yes\n",
       "\n",
       "[3333 rows x 4 columns]"
      ]
     },
     "execution_count": 7,
     "metadata": {},
     "output_type": "execute_result"
    }
   ],
   "source": [
    "# Checking the columns whose data type is object\n",
    "object_columns = df.select_dtypes(['object'])\n",
    "object_columns"
   ]
  },
  {
   "cell_type": "code",
   "execution_count": 8,
   "metadata": {},
   "outputs": [
    {
     "data": {
      "text/plain": [
       "state\n",
       "AK     52\n",
       "AL     80\n",
       "AR     55\n",
       "AZ     64\n",
       "CA     34\n",
       "CO     66\n",
       "CT     74\n",
       "DC     54\n",
       "DE     61\n",
       "FL     63\n",
       "GA     54\n",
       "HI     53\n",
       "IA     44\n",
       "ID     73\n",
       "IL     58\n",
       "IN     71\n",
       "KS     70\n",
       "KY     59\n",
       "LA     51\n",
       "MA     65\n",
       "MD     70\n",
       "ME     62\n",
       "MI     73\n",
       "MN     84\n",
       "MO     63\n",
       "MS     65\n",
       "MT     68\n",
       "NC     68\n",
       "ND     62\n",
       "NE     61\n",
       "NH     56\n",
       "NJ     68\n",
       "NM     62\n",
       "NV     66\n",
       "NY     83\n",
       "OH     78\n",
       "OK     61\n",
       "OR     78\n",
       "PA     45\n",
       "RI     65\n",
       "SC     60\n",
       "SD     60\n",
       "TN     53\n",
       "TX     72\n",
       "UT     72\n",
       "VA     77\n",
       "VT     73\n",
       "WA     66\n",
       "WI     78\n",
       "WV    106\n",
       "WY     77\n",
       "Name: count, dtype: int64"
      ]
     },
     "execution_count": 8,
     "metadata": {},
     "output_type": "execute_result"
    }
   ],
   "source": [
    "df['state'].value_counts().sort_index(ascending=True)"
   ]
  },
  {
   "cell_type": "code",
   "execution_count": 9,
   "metadata": {},
   "outputs": [
    {
     "data": {
      "text/html": [
       "<div>\n",
       "<style scoped>\n",
       "    .dataframe tbody tr th:only-of-type {\n",
       "        vertical-align: middle;\n",
       "    }\n",
       "\n",
       "    .dataframe tbody tr th {\n",
       "        vertical-align: top;\n",
       "    }\n",
       "\n",
       "    .dataframe thead th {\n",
       "        text-align: right;\n",
       "    }\n",
       "</style>\n",
       "<table border=\"1\" class=\"dataframe\">\n",
       "  <thead>\n",
       "    <tr style=\"text-align: right;\">\n",
       "      <th></th>\n",
       "      <th>account length</th>\n",
       "      <th>phone number</th>\n",
       "      <th>international plan</th>\n",
       "      <th>voice mail plan</th>\n",
       "      <th>number vmail messages</th>\n",
       "      <th>total day minutes</th>\n",
       "      <th>total day calls</th>\n",
       "      <th>total day charge</th>\n",
       "      <th>total eve minutes</th>\n",
       "      <th>total eve calls</th>\n",
       "      <th>...</th>\n",
       "      <th>SD</th>\n",
       "      <th>TN</th>\n",
       "      <th>TX</th>\n",
       "      <th>UT</th>\n",
       "      <th>VA</th>\n",
       "      <th>VT</th>\n",
       "      <th>WA</th>\n",
       "      <th>WI</th>\n",
       "      <th>WV</th>\n",
       "      <th>WY</th>\n",
       "    </tr>\n",
       "  </thead>\n",
       "  <tbody>\n",
       "    <tr>\n",
       "      <th>0</th>\n",
       "      <td>128</td>\n",
       "      <td>382-4657</td>\n",
       "      <td>no</td>\n",
       "      <td>yes</td>\n",
       "      <td>25</td>\n",
       "      <td>265.1</td>\n",
       "      <td>110</td>\n",
       "      <td>45.07</td>\n",
       "      <td>197.4</td>\n",
       "      <td>99</td>\n",
       "      <td>...</td>\n",
       "      <td>0</td>\n",
       "      <td>0</td>\n",
       "      <td>0</td>\n",
       "      <td>0</td>\n",
       "      <td>0</td>\n",
       "      <td>0</td>\n",
       "      <td>0</td>\n",
       "      <td>0</td>\n",
       "      <td>0</td>\n",
       "      <td>0</td>\n",
       "    </tr>\n",
       "    <tr>\n",
       "      <th>1</th>\n",
       "      <td>107</td>\n",
       "      <td>371-7191</td>\n",
       "      <td>no</td>\n",
       "      <td>yes</td>\n",
       "      <td>26</td>\n",
       "      <td>161.6</td>\n",
       "      <td>123</td>\n",
       "      <td>27.47</td>\n",
       "      <td>195.5</td>\n",
       "      <td>103</td>\n",
       "      <td>...</td>\n",
       "      <td>0</td>\n",
       "      <td>0</td>\n",
       "      <td>0</td>\n",
       "      <td>0</td>\n",
       "      <td>0</td>\n",
       "      <td>0</td>\n",
       "      <td>0</td>\n",
       "      <td>0</td>\n",
       "      <td>0</td>\n",
       "      <td>0</td>\n",
       "    </tr>\n",
       "    <tr>\n",
       "      <th>2</th>\n",
       "      <td>137</td>\n",
       "      <td>358-1921</td>\n",
       "      <td>no</td>\n",
       "      <td>no</td>\n",
       "      <td>0</td>\n",
       "      <td>243.4</td>\n",
       "      <td>114</td>\n",
       "      <td>41.38</td>\n",
       "      <td>121.2</td>\n",
       "      <td>110</td>\n",
       "      <td>...</td>\n",
       "      <td>0</td>\n",
       "      <td>0</td>\n",
       "      <td>0</td>\n",
       "      <td>0</td>\n",
       "      <td>0</td>\n",
       "      <td>0</td>\n",
       "      <td>0</td>\n",
       "      <td>0</td>\n",
       "      <td>0</td>\n",
       "      <td>0</td>\n",
       "    </tr>\n",
       "    <tr>\n",
       "      <th>3</th>\n",
       "      <td>84</td>\n",
       "      <td>375-9999</td>\n",
       "      <td>yes</td>\n",
       "      <td>no</td>\n",
       "      <td>0</td>\n",
       "      <td>299.4</td>\n",
       "      <td>71</td>\n",
       "      <td>50.90</td>\n",
       "      <td>61.9</td>\n",
       "      <td>88</td>\n",
       "      <td>...</td>\n",
       "      <td>0</td>\n",
       "      <td>0</td>\n",
       "      <td>0</td>\n",
       "      <td>0</td>\n",
       "      <td>0</td>\n",
       "      <td>0</td>\n",
       "      <td>0</td>\n",
       "      <td>0</td>\n",
       "      <td>0</td>\n",
       "      <td>0</td>\n",
       "    </tr>\n",
       "    <tr>\n",
       "      <th>4</th>\n",
       "      <td>75</td>\n",
       "      <td>330-6626</td>\n",
       "      <td>yes</td>\n",
       "      <td>no</td>\n",
       "      <td>0</td>\n",
       "      <td>166.7</td>\n",
       "      <td>113</td>\n",
       "      <td>28.34</td>\n",
       "      <td>148.3</td>\n",
       "      <td>122</td>\n",
       "      <td>...</td>\n",
       "      <td>0</td>\n",
       "      <td>0</td>\n",
       "      <td>0</td>\n",
       "      <td>0</td>\n",
       "      <td>0</td>\n",
       "      <td>0</td>\n",
       "      <td>0</td>\n",
       "      <td>0</td>\n",
       "      <td>0</td>\n",
       "      <td>0</td>\n",
       "    </tr>\n",
       "  </tbody>\n",
       "</table>\n",
       "<p>5 rows × 69 columns</p>\n",
       "</div>"
      ],
      "text/plain": [
       "   account length phone number international plan voice mail plan  \\\n",
       "0             128     382-4657                 no             yes   \n",
       "1             107     371-7191                 no             yes   \n",
       "2             137     358-1921                 no              no   \n",
       "3              84     375-9999                yes              no   \n",
       "4              75     330-6626                yes              no   \n",
       "\n",
       "   number vmail messages  total day minutes  total day calls  \\\n",
       "0                     25              265.1              110   \n",
       "1                     26              161.6              123   \n",
       "2                      0              243.4              114   \n",
       "3                      0              299.4               71   \n",
       "4                      0              166.7              113   \n",
       "\n",
       "   total day charge  total eve minutes  total eve calls  ...  SD  TN  TX  UT  \\\n",
       "0             45.07              197.4               99  ...   0   0   0   0   \n",
       "1             27.47              195.5              103  ...   0   0   0   0   \n",
       "2             41.38              121.2              110  ...   0   0   0   0   \n",
       "3             50.90               61.9               88  ...   0   0   0   0   \n",
       "4             28.34              148.3              122  ...   0   0   0   0   \n",
       "\n",
       "   VA  VT  WA  WI  WV  WY  \n",
       "0   0   0   0   0   0   0  \n",
       "1   0   0   0   0   0   0  \n",
       "2   0   0   0   0   0   0  \n",
       "3   0   0   0   0   0   0  \n",
       "4   0   0   0   0   0   0  \n",
       "\n",
       "[5 rows x 69 columns]"
      ]
     },
     "execution_count": 9,
     "metadata": {},
     "output_type": "execute_result"
    }
   ],
   "source": [
    "# Converting state column dummies to allow easy processing and dropping the area code column\n",
    "df_dummies = pd.get_dummies(df['state'], drop_first=True).astype('Int64')\n",
    "df = pd.concat([df, df_dummies], axis=1)\n",
    "df.drop(['state', 'area code'], axis=1, inplace=True)\n",
    "df.head()"
   ]
  },
  {
   "cell_type": "code",
   "execution_count": 10,
   "metadata": {},
   "outputs": [
    {
     "data": {
      "text/html": [
       "<div>\n",
       "<style scoped>\n",
       "    .dataframe tbody tr th:only-of-type {\n",
       "        vertical-align: middle;\n",
       "    }\n",
       "\n",
       "    .dataframe tbody tr th {\n",
       "        vertical-align: top;\n",
       "    }\n",
       "\n",
       "    .dataframe thead th {\n",
       "        text-align: right;\n",
       "    }\n",
       "</style>\n",
       "<table border=\"1\" class=\"dataframe\">\n",
       "  <thead>\n",
       "    <tr style=\"text-align: right;\">\n",
       "      <th></th>\n",
       "      <th>account length</th>\n",
       "      <th>phone number</th>\n",
       "      <th>international plan</th>\n",
       "      <th>voice mail plan</th>\n",
       "      <th>number vmail messages</th>\n",
       "      <th>total day minutes</th>\n",
       "      <th>total day calls</th>\n",
       "      <th>total day charge</th>\n",
       "      <th>total eve minutes</th>\n",
       "      <th>total eve calls</th>\n",
       "      <th>...</th>\n",
       "      <th>SD</th>\n",
       "      <th>TN</th>\n",
       "      <th>TX</th>\n",
       "      <th>UT</th>\n",
       "      <th>VA</th>\n",
       "      <th>VT</th>\n",
       "      <th>WA</th>\n",
       "      <th>WI</th>\n",
       "      <th>WV</th>\n",
       "      <th>WY</th>\n",
       "    </tr>\n",
       "  </thead>\n",
       "  <tbody>\n",
       "    <tr>\n",
       "      <th>0</th>\n",
       "      <td>128</td>\n",
       "      <td>382-4657</td>\n",
       "      <td>0</td>\n",
       "      <td>1</td>\n",
       "      <td>25</td>\n",
       "      <td>265.1</td>\n",
       "      <td>110</td>\n",
       "      <td>45.07</td>\n",
       "      <td>197.4</td>\n",
       "      <td>99</td>\n",
       "      <td>...</td>\n",
       "      <td>0</td>\n",
       "      <td>0</td>\n",
       "      <td>0</td>\n",
       "      <td>0</td>\n",
       "      <td>0</td>\n",
       "      <td>0</td>\n",
       "      <td>0</td>\n",
       "      <td>0</td>\n",
       "      <td>0</td>\n",
       "      <td>0</td>\n",
       "    </tr>\n",
       "    <tr>\n",
       "      <th>1</th>\n",
       "      <td>107</td>\n",
       "      <td>371-7191</td>\n",
       "      <td>0</td>\n",
       "      <td>1</td>\n",
       "      <td>26</td>\n",
       "      <td>161.6</td>\n",
       "      <td>123</td>\n",
       "      <td>27.47</td>\n",
       "      <td>195.5</td>\n",
       "      <td>103</td>\n",
       "      <td>...</td>\n",
       "      <td>0</td>\n",
       "      <td>0</td>\n",
       "      <td>0</td>\n",
       "      <td>0</td>\n",
       "      <td>0</td>\n",
       "      <td>0</td>\n",
       "      <td>0</td>\n",
       "      <td>0</td>\n",
       "      <td>0</td>\n",
       "      <td>0</td>\n",
       "    </tr>\n",
       "    <tr>\n",
       "      <th>2</th>\n",
       "      <td>137</td>\n",
       "      <td>358-1921</td>\n",
       "      <td>0</td>\n",
       "      <td>0</td>\n",
       "      <td>0</td>\n",
       "      <td>243.4</td>\n",
       "      <td>114</td>\n",
       "      <td>41.38</td>\n",
       "      <td>121.2</td>\n",
       "      <td>110</td>\n",
       "      <td>...</td>\n",
       "      <td>0</td>\n",
       "      <td>0</td>\n",
       "      <td>0</td>\n",
       "      <td>0</td>\n",
       "      <td>0</td>\n",
       "      <td>0</td>\n",
       "      <td>0</td>\n",
       "      <td>0</td>\n",
       "      <td>0</td>\n",
       "      <td>0</td>\n",
       "    </tr>\n",
       "    <tr>\n",
       "      <th>3</th>\n",
       "      <td>84</td>\n",
       "      <td>375-9999</td>\n",
       "      <td>1</td>\n",
       "      <td>0</td>\n",
       "      <td>0</td>\n",
       "      <td>299.4</td>\n",
       "      <td>71</td>\n",
       "      <td>50.90</td>\n",
       "      <td>61.9</td>\n",
       "      <td>88</td>\n",
       "      <td>...</td>\n",
       "      <td>0</td>\n",
       "      <td>0</td>\n",
       "      <td>0</td>\n",
       "      <td>0</td>\n",
       "      <td>0</td>\n",
       "      <td>0</td>\n",
       "      <td>0</td>\n",
       "      <td>0</td>\n",
       "      <td>0</td>\n",
       "      <td>0</td>\n",
       "    </tr>\n",
       "    <tr>\n",
       "      <th>4</th>\n",
       "      <td>75</td>\n",
       "      <td>330-6626</td>\n",
       "      <td>1</td>\n",
       "      <td>0</td>\n",
       "      <td>0</td>\n",
       "      <td>166.7</td>\n",
       "      <td>113</td>\n",
       "      <td>28.34</td>\n",
       "      <td>148.3</td>\n",
       "      <td>122</td>\n",
       "      <td>...</td>\n",
       "      <td>0</td>\n",
       "      <td>0</td>\n",
       "      <td>0</td>\n",
       "      <td>0</td>\n",
       "      <td>0</td>\n",
       "      <td>0</td>\n",
       "      <td>0</td>\n",
       "      <td>0</td>\n",
       "      <td>0</td>\n",
       "      <td>0</td>\n",
       "    </tr>\n",
       "  </tbody>\n",
       "</table>\n",
       "<p>5 rows × 69 columns</p>\n",
       "</div>"
      ],
      "text/plain": [
       "   account length phone number  international plan  voice mail plan  \\\n",
       "0             128     382-4657                   0                1   \n",
       "1             107     371-7191                   0                1   \n",
       "2             137     358-1921                   0                0   \n",
       "3              84     375-9999                   1                0   \n",
       "4              75     330-6626                   1                0   \n",
       "\n",
       "   number vmail messages  total day minutes  total day calls  \\\n",
       "0                     25              265.1              110   \n",
       "1                     26              161.6              123   \n",
       "2                      0              243.4              114   \n",
       "3                      0              299.4               71   \n",
       "4                      0              166.7              113   \n",
       "\n",
       "   total day charge  total eve minutes  total eve calls  ...  SD  TN  TX  UT  \\\n",
       "0             45.07              197.4               99  ...   0   0   0   0   \n",
       "1             27.47              195.5              103  ...   0   0   0   0   \n",
       "2             41.38              121.2              110  ...   0   0   0   0   \n",
       "3             50.90               61.9               88  ...   0   0   0   0   \n",
       "4             28.34              148.3              122  ...   0   0   0   0   \n",
       "\n",
       "   VA  VT  WA  WI  WV  WY  \n",
       "0   0   0   0   0   0   0  \n",
       "1   0   0   0   0   0   0  \n",
       "2   0   0   0   0   0   0  \n",
       "3   0   0   0   0   0   0  \n",
       "4   0   0   0   0   0   0  \n",
       "\n",
       "[5 rows x 69 columns]"
      ]
     },
     "execution_count": 10,
     "metadata": {},
     "output_type": "execute_result"
    }
   ],
   "source": [
    "# Changing the international plan and voice main plan to 1s and 0s\n",
    "df['international plan'] = df['international plan'].replace(['no', 'yes'], [0,1], regex=False)\n",
    "df['voice mail plan'] = df['voice mail plan'].replace(['no', 'yes'], [0,1], regex=False)\n",
    "df.head()"
   ]
  },
  {
   "cell_type": "code",
   "execution_count": 11,
   "metadata": {},
   "outputs": [
    {
     "data": {
      "text/html": [
       "<div>\n",
       "<style scoped>\n",
       "    .dataframe tbody tr th:only-of-type {\n",
       "        vertical-align: middle;\n",
       "    }\n",
       "\n",
       "    .dataframe tbody tr th {\n",
       "        vertical-align: top;\n",
       "    }\n",
       "\n",
       "    .dataframe thead th {\n",
       "        text-align: right;\n",
       "    }\n",
       "</style>\n",
       "<table border=\"1\" class=\"dataframe\">\n",
       "  <thead>\n",
       "    <tr style=\"text-align: right;\">\n",
       "      <th></th>\n",
       "      <th>account length</th>\n",
       "      <th>international plan</th>\n",
       "      <th>voice mail plan</th>\n",
       "      <th>number vmail messages</th>\n",
       "      <th>total day minutes</th>\n",
       "      <th>total day calls</th>\n",
       "      <th>total day charge</th>\n",
       "      <th>total eve minutes</th>\n",
       "      <th>total eve calls</th>\n",
       "      <th>total eve charge</th>\n",
       "      <th>...</th>\n",
       "      <th>SD</th>\n",
       "      <th>TN</th>\n",
       "      <th>TX</th>\n",
       "      <th>UT</th>\n",
       "      <th>VA</th>\n",
       "      <th>VT</th>\n",
       "      <th>WA</th>\n",
       "      <th>WI</th>\n",
       "      <th>WV</th>\n",
       "      <th>WY</th>\n",
       "    </tr>\n",
       "  </thead>\n",
       "  <tbody>\n",
       "    <tr>\n",
       "      <th>0</th>\n",
       "      <td>128</td>\n",
       "      <td>0</td>\n",
       "      <td>1</td>\n",
       "      <td>25</td>\n",
       "      <td>265.1</td>\n",
       "      <td>110</td>\n",
       "      <td>45.07</td>\n",
       "      <td>197.4</td>\n",
       "      <td>99</td>\n",
       "      <td>16.78</td>\n",
       "      <td>...</td>\n",
       "      <td>0</td>\n",
       "      <td>0</td>\n",
       "      <td>0</td>\n",
       "      <td>0</td>\n",
       "      <td>0</td>\n",
       "      <td>0</td>\n",
       "      <td>0</td>\n",
       "      <td>0</td>\n",
       "      <td>0</td>\n",
       "      <td>0</td>\n",
       "    </tr>\n",
       "    <tr>\n",
       "      <th>1</th>\n",
       "      <td>107</td>\n",
       "      <td>0</td>\n",
       "      <td>1</td>\n",
       "      <td>26</td>\n",
       "      <td>161.6</td>\n",
       "      <td>123</td>\n",
       "      <td>27.47</td>\n",
       "      <td>195.5</td>\n",
       "      <td>103</td>\n",
       "      <td>16.62</td>\n",
       "      <td>...</td>\n",
       "      <td>0</td>\n",
       "      <td>0</td>\n",
       "      <td>0</td>\n",
       "      <td>0</td>\n",
       "      <td>0</td>\n",
       "      <td>0</td>\n",
       "      <td>0</td>\n",
       "      <td>0</td>\n",
       "      <td>0</td>\n",
       "      <td>0</td>\n",
       "    </tr>\n",
       "    <tr>\n",
       "      <th>2</th>\n",
       "      <td>137</td>\n",
       "      <td>0</td>\n",
       "      <td>0</td>\n",
       "      <td>0</td>\n",
       "      <td>243.4</td>\n",
       "      <td>114</td>\n",
       "      <td>41.38</td>\n",
       "      <td>121.2</td>\n",
       "      <td>110</td>\n",
       "      <td>10.30</td>\n",
       "      <td>...</td>\n",
       "      <td>0</td>\n",
       "      <td>0</td>\n",
       "      <td>0</td>\n",
       "      <td>0</td>\n",
       "      <td>0</td>\n",
       "      <td>0</td>\n",
       "      <td>0</td>\n",
       "      <td>0</td>\n",
       "      <td>0</td>\n",
       "      <td>0</td>\n",
       "    </tr>\n",
       "    <tr>\n",
       "      <th>3</th>\n",
       "      <td>84</td>\n",
       "      <td>1</td>\n",
       "      <td>0</td>\n",
       "      <td>0</td>\n",
       "      <td>299.4</td>\n",
       "      <td>71</td>\n",
       "      <td>50.90</td>\n",
       "      <td>61.9</td>\n",
       "      <td>88</td>\n",
       "      <td>5.26</td>\n",
       "      <td>...</td>\n",
       "      <td>0</td>\n",
       "      <td>0</td>\n",
       "      <td>0</td>\n",
       "      <td>0</td>\n",
       "      <td>0</td>\n",
       "      <td>0</td>\n",
       "      <td>0</td>\n",
       "      <td>0</td>\n",
       "      <td>0</td>\n",
       "      <td>0</td>\n",
       "    </tr>\n",
       "    <tr>\n",
       "      <th>4</th>\n",
       "      <td>75</td>\n",
       "      <td>1</td>\n",
       "      <td>0</td>\n",
       "      <td>0</td>\n",
       "      <td>166.7</td>\n",
       "      <td>113</td>\n",
       "      <td>28.34</td>\n",
       "      <td>148.3</td>\n",
       "      <td>122</td>\n",
       "      <td>12.61</td>\n",
       "      <td>...</td>\n",
       "      <td>0</td>\n",
       "      <td>0</td>\n",
       "      <td>0</td>\n",
       "      <td>0</td>\n",
       "      <td>0</td>\n",
       "      <td>0</td>\n",
       "      <td>0</td>\n",
       "      <td>0</td>\n",
       "      <td>0</td>\n",
       "      <td>0</td>\n",
       "    </tr>\n",
       "  </tbody>\n",
       "</table>\n",
       "<p>5 rows × 68 columns</p>\n",
       "</div>"
      ],
      "text/plain": [
       "   account length  international plan  voice mail plan  number vmail messages  \\\n",
       "0             128                   0                1                     25   \n",
       "1             107                   0                1                     26   \n",
       "2             137                   0                0                      0   \n",
       "3              84                   1                0                      0   \n",
       "4              75                   1                0                      0   \n",
       "\n",
       "   total day minutes  total day calls  total day charge  total eve minutes  \\\n",
       "0              265.1              110             45.07              197.4   \n",
       "1              161.6              123             27.47              195.5   \n",
       "2              243.4              114             41.38              121.2   \n",
       "3              299.4               71             50.90               61.9   \n",
       "4              166.7              113             28.34              148.3   \n",
       "\n",
       "   total eve calls  total eve charge  ...  SD  TN  TX  UT  VA  VT  WA  WI  WV  \\\n",
       "0               99             16.78  ...   0   0   0   0   0   0   0   0   0   \n",
       "1              103             16.62  ...   0   0   0   0   0   0   0   0   0   \n",
       "2              110             10.30  ...   0   0   0   0   0   0   0   0   0   \n",
       "3               88              5.26  ...   0   0   0   0   0   0   0   0   0   \n",
       "4              122             12.61  ...   0   0   0   0   0   0   0   0   0   \n",
       "\n",
       "   WY  \n",
       "0   0  \n",
       "1   0  \n",
       "2   0  \n",
       "3   0  \n",
       "4   0  \n",
       "\n",
       "[5 rows x 68 columns]"
      ]
     },
     "execution_count": 11,
     "metadata": {},
     "output_type": "execute_result"
    }
   ],
   "source": [
    "# Dropping phone number column as it does not have any connection to churn column\n",
    "df.drop('phone number', axis = 1, inplace=True)\n",
    "df.head()"
   ]
  },
  {
   "cell_type": "markdown",
   "metadata": {},
   "source": [
    "## Data Visualization\n",
    "### Visualizing count of churned customers"
   ]
  },
  {
   "cell_type": "code",
   "execution_count": 12,
   "metadata": {},
   "outputs": [
    {
     "data": {
      "image/png": "[encoded data removed]",
      "text/plain": [
       "<Figure size 640x480 with 1 Axes>"
      ]
     },
     "metadata": {},
     "output_type": "display_data"
    }
   ],
   "source": [
    "#plotting the count of churned customers\n",
    "sns.countplot(x ='churn', data = df, color = '#bf49a4').set(title='Count of churned customers');"
   ]
  },
  {
   "cell_type": "markdown",
   "metadata": {},
   "source": [
    "From the above graph, roughly 500 customers have churned.\n",
    "### Total Day Calls of Churned customers vs Retained Customers"
   ]
  },
  {
   "cell_type": "code",
   "execution_count": 13,
   "metadata": {},
   "outputs": [
    {
     "data": {
      "image/png": "[encoded data removed]",
      "text/plain": [
       "<Figure size 1500x500 with 2 Axes>"
      ]
     },
     "metadata": {},
     "output_type": "display_data"
    }
   ],
   "source": [
    "#plotting figure\n",
    "fig, ax = plt.subplots(nrows = 1, ncols = 2, figsize = (15,5))\n",
    "\n",
    "#plotting total day calls \n",
    "sns.histplot(df.loc[df['churn'] == False]['total day calls'], kde=True, bins=20, color='Purple', label='Retained Customers', ax = ax[0]);\n",
    "sns.histplot(df.loc[df['churn'] == True]['total day calls'], kde=True, bins=20, color='black',label='Churned Customers', ax=ax[0])\n",
    "\n",
    "#plotting total night calls\n",
    "sns.histplot(df.loc[df['churn'] == False]['total night calls'], kde=True, bins=20, color='Purple', label='Retained Customers', ax = ax[1]);\n",
    "sns.histplot(df.loc[df['churn'] == True]['total night calls'], kde=True, bins=20, color='black',label='Churned Customers', ax=ax[1])\n",
    "\n",
    "plt.legend();"
   ]
  },
  {
   "cell_type": "markdown",
   "metadata": {},
   "source": [
    "Based on the plotted data comparing the total day and night calls for churned and retained customers, it is evident that retained customers tend to have higher call volumes compared to churned customers. This observation suggests a positive correlation between call activity and customer retention within the context of SyriaTel's telecommunications services.\n",
    "\n",
    "The higher call volumes among retained customers may indicate a greater level of engagement and satisfaction with SyriaTel's offerings. Retained customers may be more actively using the telecom services for their communication needs, which could signify a stronger bond between these customers and the company. On the other hand, the relatively lower call volumes among churned customers might suggest a decreased level of interaction or a diminished sense of value derived from the services, potentially contributing to their decision to discontinue their subscription.\n",
    "\n",
    "### International plans status for both churned and retained customers.\n"
   ]
  },
  {
   "cell_type": "code",
   "execution_count": 14,
   "metadata": {},
   "outputs": [
    {
     "data": {
      "image/png": "[encoded data removed]",
      "text/plain": [
       "<Figure size 1500x500 with 2 Axes>"
      ]
     },
     "metadata": {},
     "output_type": "display_data"
    }
   ],
   "source": [
    "#plotting figure\n",
    "fig, ax = plt.subplots(nrows = 1, ncols = 2, figsize = (15,5))\n",
    "\n",
    "sns.countplot(data=df.loc[df['churn'] == False], x='international plan', ax = ax[0], color = '#bf49a4');\n",
    "sns.countplot(data=df.loc[df['churn'] == True], x='international plan', ax = ax[1], color = '#bf49a4');\n",
    "ax[0].set_title('International plan for Retained Customers')\n",
    "ax[1].set_title('International plan for Churned customers');"
   ]
  },
  {
   "cell_type": "markdown",
   "metadata": {},
   "source": [
    "Based on the plotted data comparing the presence of international plans (yes or no) for both churned and retained customers, a notable observation is that the proportion of customers with international plans (yes values) is relatively low in both plots – for both churned and retained customers.\n",
    "\n",
    "The low prevalence of international plans among both churned and retained customers suggests that a significant portion of SyriaTel's customer base may not be utilizing international calling services. This could indicate that international calling is not a significant factor influencing customer churn for SyriaTel.\n",
    "\n",
    "### Average account length of customers"
   ]
  },
  {
   "cell_type": "code",
   "execution_count": 15,
   "metadata": {},
   "outputs": [
    {
     "data": {
      "image/png": "[encoded data removed]",
      "text/plain": [
       "<Figure size 640x480 with 1 Axes>"
      ]
     },
     "metadata": {},
     "output_type": "display_data"
    }
   ],
   "source": [
    "#plotting histogram of account length\n",
    "sns.histplot(df['account length'], bins=20, color = '#bf49a4', label='Retained Customers')\n",
    "\n",
    "#plotting vertical line for mean\n",
    "plt.axvline(df['account length'].mean(), color = 'maroon', label = 'Average Account Length', lw = 4)\n",
    "plt.legend();"
   ]
  },
  {
   "cell_type": "markdown",
   "metadata": {},
   "source": [
    "The average account length of approximately 101 suggests that the customer base at Syriatel exhibits a relatively stable relationship with the telecom provider. This consistent account duration may indicate a positive customer experience and satisfaction, potentially contributing to a lower churn rate. However, it is essential to delve deeper into other factors, such as service quality, pricing, and customer engagement, to comprehensively assess the overall customer retention strategies and ensure the continued success of the company's efforts to minimize churn.\n",
    "\n",
    "### How does Syriatel's churn rate compare to industry benchmarks or competitors? "
   ]
  },
  {
   "cell_type": "code",
   "execution_count": 16,
   "metadata": {},
   "outputs": [
    {
     "data": {
      "image/png": "[encoded data removed]",
      "text/plain": [
       "<Figure size 640x480 with 1 Axes>"
      ]
     },
     "metadata": {},
     "output_type": "display_data"
    }
   ],
   "source": [
    "#churned customers\n",
    "churned = df['churn'].value_counts()[1]\n",
    "\n",
    "#retained customers\n",
    "retained = df['churn'].value_counts()[0]\n",
    "#churn rate\n",
    "rate = (churned / (churned + retained))*100\n",
    "\n",
    "#average telecom churn rate according to www.smartlook.com\n",
    "average_telecom_rate = 22\n",
    "\n",
    "sns.barplot(x = ['Syriatel Churn', 'Industry Average Churn'], y = [rate, average_telecom_rate], data = df, color = '#bf49a4')\n",
    "plt.title(\"Syriatel's Churn Rate vs Industry Average\");"
   ]
  },
  {
   "cell_type": "markdown",
   "metadata": {},
   "source": [
    "The comparison of churn rates between the industry average and Syriatel reveals intriguing insights. According to [smartlook.com](https://www.smartlook.com/blog/customer-churn-retention/#:~:text=The%20average%20churn%20rate%20in,take%20action%20to%20reduce%20it.), the average churn rate within the industry stands at 22%, contrasting with Syriatel's notably lower churn rate of 14%. This discrepancy suggests that Syriatel has effectively managed to cultivate a more loyal customer base and retain its customers at a significantly better rate than the industry norm. The disparity could be attributed to Syriatel's proactive approach to customer satisfaction, personalized services, or targeted retention strategies. This favorable outcome not only underscores Syriatel's effectiveness in customer retention but also positions it as a leading player in the telecommunications sector, potentially serving as a benchmark for other industry players striving to enhance customer loyalty and reduce churn.\n",
    "\n",
    "### Customer service calls counts"
   ]
  },
  {
   "cell_type": "code",
   "execution_count": 17,
   "metadata": {},
   "outputs": [
    {
     "data": {
      "image/png": "[encoded data removed]",
      "text/plain": [
       "<Figure size 1500x500 with 1 Axes>"
      ]
     },
     "metadata": {},
     "output_type": "display_data"
    }
   ],
   "source": [
    "fig, ax = plt.subplots(figsize = (15,5))\n",
    "\n",
    "#plotting histogram\n",
    "sns.histplot(df['customer service calls'], bins=20, color = '#bf49a4', label='Customer service calls')\n",
    "plt.axvline(x = df.loc[df['churn'] == False]['customer service calls'].mean(), color = 'black', lw = 4, label = 'Avg Customer Service calls for Retained Customers')\n",
    "plt.axvline(x = df.loc[df['churn'] == True]['customer service calls'].mean(), color = 'red', lw = 4, label = 'Avg Customer Service Calls for Churned Customers')\n",
    "\n",
    "plt.xticks(range(0,9))\n",
    "\n",
    "plt.legend();"
   ]
  },
  {
   "cell_type": "markdown",
   "metadata": {},
   "source": [
    "Based on the analysis of the customer service calls data, it is evident that the majority of customers make between 1 and 2 calls to customer service. Additionally, there is a notable frequency of 0 customer service calls, indicating that a portion of customers did not require assistance.\n",
    "\n",
    "Further segmentation by churn status reveals interesting insights. On average, churned customers tend to have higher customer service call counts, with an average of approximately 2 calls. In contrast, retained customers have a slightly lower average of around 2 calls, which is practically interpreted as 2 since fractional calls are not possible. This discrepancy suggests that customers who reach out to customer service more frequently might be more likely to churn, indicating a potential correlation between higher service interactions and churn behavior.\n",
    "\n",
    "### Average charges between different times of the day vs average minutes"
   ]
  },
  {
   "cell_type": "code",
   "execution_count": 18,
   "metadata": {},
   "outputs": [
    {
     "data": {
      "image/png": "[encoded data removed]",
      "text/plain": [
       "<Figure size 1500x500 with 2 Axes>"
      ]
     },
     "metadata": {},
     "output_type": "display_data"
    }
   ],
   "source": [
    "fig,ax = plt.subplots(figsize = (15,5), nrows = 1, ncols = 2)\n",
    "charges_val = list(df[['total night charge','total eve charge','total day charge']].describe().iloc[1,:].values)\n",
    "charges_label = ['Night Average', 'Evening Average', 'Daytime Average']\n",
    "\n",
    "#plotting barplot of average charge\n",
    "sns.barplot(x = charges_label, y = charges_val, ax = ax[0], color = '#bf49a4')\n",
    "ax[0].set_ylabel('Charges')\n",
    "\n",
    "#plotting bar plot of average minutes\n",
    "mins_val = list(df[['total night minutes','total eve minutes','total day minutes']].describe().iloc[1,:].values)\n",
    "mins_label = ['Night Average', 'Evening Average', 'Daytime Average']\n",
    "\n",
    "sns.barplot(x = mins_label, y = mins_val, ax = ax[1], color = '#bf49a4')\n",
    "ax[1].set_ylabel('Minutes')\n",
    "plt.suptitle('Average charges between different times of the day vs average minutes');"
   ]
  },
  {
   "cell_type": "markdown",
   "metadata": {},
   "source": [
    "The observation that day time has the highest average charge despite having a lower average number of minutes compared to evening and night suggests a potential area of concern that could impact customer churn. This discrepancy could indicate that customers are being charged relatively more for their daytime usage, even though they are not using the service for as long during those hours. This pricing structure may lead to customer dissatisfaction, as they might perceive that they are not getting good value for their money during the day. The combination of higher charges and potentially lower perceived value during the day could contribute to customer frustration and, consequently, increase the likelihood of churn. It is important for Syriatel to carefully consider their pricing strategy and ensure that it aligns with customers' usage patterns and expectations to reduce the risk of churn."
   ]
  },
  {
   "cell_type": "markdown",
   "metadata": {},
   "source": [
    "## Data Modeling"
   ]
  },
  {
   "cell_type": "markdown",
   "metadata": {},
   "source": [
    "### Base Modeling"
   ]
  },
  {
   "cell_type": "markdown",
   "metadata": {},
   "source": [
    "We first convert the target column to binary:"
   ]
  },
  {
   "cell_type": "code",
   "execution_count": 19,
   "metadata": {},
   "outputs": [],
   "source": [
    "df['churn'] = df['churn'].replace([True, False], [1,0])"
   ]
  },
  {
   "cell_type": "code",
   "execution_count": 20,
   "metadata": {},
   "outputs": [
    {
     "data": {
      "text/plain": [
       "churn\n",
       "0    2850\n",
       "1     483\n",
       "Name: count, dtype: int64"
      ]
     },
     "execution_count": 20,
     "metadata": {},
     "output_type": "execute_result"
    }
   ],
   "source": [
    "X = df.drop('churn', axis=1)\n",
    "y = df['churn']\n",
    "\n",
    "# Checking to see if there is a class imbalance\n",
    "y.value_counts()"
   ]
  },
  {
   "cell_type": "markdown",
   "metadata": {},
   "source": [
    "Splitting the data and target to test and train values."
   ]
  },
  {
   "cell_type": "code",
   "execution_count": 21,
   "metadata": {},
   "outputs": [
    {
     "data": {
      "text/plain": [
       "((2666, 67), (667, 67))"
      ]
     },
     "execution_count": 21,
     "metadata": {},
     "output_type": "execute_result"
    }
   ],
   "source": [
    "# Splitting to train and test variables\n",
    "X_train, X_test, y_train, y_test = train_test_split(X, y, test_size=0.2, random_state=123)\n",
    "# Checking the shapes\n",
    "X_train.shape, X_test.shape"
   ]
  },
  {
   "cell_type": "code",
   "execution_count": 22,
   "metadata": {},
   "outputs": [],
   "source": [
    "# Scaling the data \n",
    "scaler = StandardScaler()\n",
    "X_train_scaled = scaler.fit_transform(X_train)\n",
    "X_test_scaled = scaler.transform(X_test)"
   ]
  },
  {
   "cell_type": "code",
   "execution_count": 23,
   "metadata": {},
   "outputs": [
    {
     "data": {
      "text/plain": [
       "0.364963503649635"
      ]
     },
     "execution_count": 23,
     "metadata": {},
     "output_type": "execute_result"
    }
   ],
   "source": [
    "#instantiating the classifier\n",
    "model_lr = LogisticRegression()\n",
    "\n",
    "#fitting the model\n",
    "model_lr.fit(X_train_scaled, y_train)\n",
    "\n",
    "#making predictions\n",
    "y_pred_proba_lr = model_lr.predict_proba(X_test_scaled)[:,1]\n",
    "\n",
    "y_pred_lr = model_lr.predict(X_test_scaled)\n",
    "\n",
    "# Getting the f1 score\n",
    "f1score = f1_score(y_test, y_pred_lr)\n",
    "f1score"
   ]
  },
  {
   "cell_type": "markdown",
   "metadata": {},
   "source": [
    "As observed from the provided F1 score of 0.36, the model's performance is notably subpar in terms of both precision and recall. This suggests a lack of effectiveness in correctly identifying positive instances and highlights the potential influence of class imbalance."
   ]
  },
  {
   "cell_type": "code",
   "execution_count": 24,
   "metadata": {},
   "outputs": [
    {
     "data": {
      "image/png": "[encoded data removed]",
      "text/plain": [
       "<Figure size 640x480 with 1 Axes>"
      ]
     },
     "metadata": {},
     "output_type": "display_data"
    }
   ],
   "source": [
    "# Plotting the ROC curve \n",
    "fpr, tpr, thresholds = roc_curve(y_test, y_pred_proba_lr)\n",
    "model_lr_roc_score = roc_auc_score(y_test, y_pred_proba_lr)\n",
    "\n",
    "plt.plot([0,1], [0,1], 'k--')\n",
    "plt.plot(fpr, tpr, label=f\"ROC_AUC: {model_lr_roc_score:.2f}\")\n",
    "plt.title(\"False Positive Rate against True Positive rate\")\n",
    "plt.xlabel(\"False Positive rate\")\n",
    "plt.ylabel(\"True Positive rate\")\n",
    "plt.legend()\n",
    "plt.show()"
   ]
  },
  {
   "cell_type": "markdown",
   "metadata": {},
   "source": [
    "As evident from the depicted ROC Curve, the model demonstrates effective performance with an ROC AUC score of 0.83. However, it's important to note that the model faces class imbalance, where the majority class dominates and doesn't churn. Consequently, the model is susceptible to high bias, potentially favoring the majority class in its predictions."
   ]
  },
  {
   "cell_type": "markdown",
   "metadata": {},
   "source": [
    "#### Performing class balancing"
   ]
  },
  {
   "cell_type": "code",
   "execution_count": 25,
   "metadata": {},
   "outputs": [],
   "source": [
    "#using SMOTE\n",
    "smote = SMOTE()\n",
    "\n",
    "#converting data types in X_train to int\n",
    "X_train = X_train.astype(int)\n",
    "\n",
    "\n",
    "#performing oversampling of churned values\n",
    "X_train_resampled, y_train_resampled = smote.fit_resample(X_train, y_train)"
   ]
  },
  {
   "cell_type": "markdown",
   "metadata": {},
   "source": [
    "After resampling, our new target has equal number of 0s and 1s. To confirm this here are the value counts:"
   ]
  },
  {
   "cell_type": "code",
   "execution_count": 26,
   "metadata": {},
   "outputs": [
    {
     "data": {
      "text/plain": [
       "churn\n",
       "1    2278\n",
       "0    2278\n",
       "Name: count, dtype: int64"
      ]
     },
     "execution_count": 26,
     "metadata": {},
     "output_type": "execute_result"
    }
   ],
   "source": [
    "y_train_resampled.value_counts()"
   ]
  },
  {
   "cell_type": "markdown",
   "metadata": {},
   "source": [
    "Creating table to store the roc scores of different models:"
   ]
  },
  {
   "cell_type": "code",
   "execution_count": 27,
   "metadata": {},
   "outputs": [
    {
     "data": {
      "text/html": [
       "<div>\n",
       "<style scoped>\n",
       "    .dataframe tbody tr th:only-of-type {\n",
       "        vertical-align: middle;\n",
       "    }\n",
       "\n",
       "    .dataframe tbody tr th {\n",
       "        vertical-align: top;\n",
       "    }\n",
       "\n",
       "    .dataframe thead th {\n",
       "        text-align: right;\n",
       "    }\n",
       "</style>\n",
       "<table border=\"1\" class=\"dataframe\">\n",
       "  <thead>\n",
       "    <tr style=\"text-align: right;\">\n",
       "      <th></th>\n",
       "      <th>Model</th>\n",
       "      <th>Description</th>\n",
       "      <th>Num Features</th>\n",
       "      <th>Accuracy Score</th>\n",
       "    </tr>\n",
       "  </thead>\n",
       "  <tbody>\n",
       "    <tr>\n",
       "      <th>0</th>\n",
       "      <td>Baseline Model</td>\n",
       "      <td>Logistic ith all features</td>\n",
       "      <td>67</td>\n",
       "      <td>0.827</td>\n",
       "    </tr>\n",
       "  </tbody>\n",
       "</table>\n",
       "</div>"
      ],
      "text/plain": [
       "            Model                Description   Num Features  Accuracy Score\n",
       "0  Baseline Model  Logistic ith all features             67           0.827"
      ]
     },
     "execution_count": 27,
     "metadata": {},
     "output_type": "execute_result"
    }
   ],
   "source": [
    "#defining a dataframe to store model results\n",
    "result_table = pd.DataFrame({'Model': [], 'Description':[], ' Num Features' : [], 'Accuracy Score':[]})\n",
    "result_table.loc[0] = ['Baseline Model', 'Logistic ith all features', len(model_lr.coef_[0]), round(model_lr_roc_score,3)]\n",
    "\n",
    "\n",
    "#previewing the table\n",
    "result_table"
   ]
  },
  {
   "cell_type": "markdown",
   "metadata": {},
   "source": [
    "### Random Forest Model"
   ]
  },
  {
   "cell_type": "markdown",
   "metadata": {},
   "source": [
    "This is particularly suitable because it can provide insights into patterns, trends, and factors that contribute to the goals for this project\n"
   ]
  },
  {
   "cell_type": "code",
   "execution_count": 28,
   "metadata": {},
   "outputs": [
    {
     "name": "stdout",
     "output_type": "stream",
     "text": [
      "Accuracy: 0.94\n",
      "Classification Report:\n",
      "               precision    recall  f1-score   support\n",
      "\n",
      "           0       0.96      0.98      0.97       572\n",
      "           1       0.86      0.73      0.79        95\n",
      "\n",
      "    accuracy                           0.94       667\n",
      "   macro avg       0.91      0.85      0.88       667\n",
      "weighted avg       0.94      0.94      0.94       667\n",
      "\n"
     ]
    }
   ],
   "source": [
    "# Creating a Random Forest classifier\n",
    "rf_classifier = RandomForestClassifier(n_estimators=100, random_state=42)\n",
    "\n",
    "# Training the model\n",
    "rf_classifier.fit(X_train, y_train)\n",
    "\n",
    "# Making predictions\n",
    "y_pred = rf_classifier.predict(X_test)\n",
    "\n",
    "# Evaluating the model\n",
    "accuracy = accuracy_score(y_test, y_pred)\n",
    "classification_rep = classification_report(y_test, y_pred)\n",
    "\n",
    "print(f\"Accuracy: {accuracy:.2f}\")\n",
    "print(\"Classification Report:\\n\", classification_rep)\n",
    "\n",
    "result_table.loc[3] = ['Random Forest Model', 'Random Forest model on all features', len(model_lr.coef_[0]), round(accuracy,3)]\n"
   ]
  },
  {
   "cell_type": "markdown",
   "metadata": {},
   "source": [
    "Here we perform hyperparameter tuning with GridSearchCV to improve the performance and generalization of your Random Forest model. Which allows us to find the best combination of hyperparameters that can lead to a more accurate and robust model.\n"
   ]
  },
  {
   "cell_type": "code",
   "execution_count": 29,
   "metadata": {},
   "outputs": [
    {
     "name": "stdout",
     "output_type": "stream",
     "text": [
      "Best Parameters: {'max_depth': 20, 'min_samples_leaf': 1, 'min_samples_split': 5, 'n_estimators': 15}\n"
     ]
    }
   ],
   "source": [
    "# Using GridsearchCV to perform hyperparameter tuning\n",
    "from sklearn.model_selection import train_test_split, GridSearchCV\n",
    "import matplotlib.pyplot as plt\n",
    "\n",
    "# Define the hyperparameter grid to search\n",
    "param_grid = {\n",
    "    'n_estimators': [5, 10, 15],\n",
    "    'max_depth': [None, 10, 20],\n",
    "    'min_samples_split': [2, 5, 10],\n",
    "    'min_samples_leaf': [1, 2, 4]\n",
    "}\n",
    "\n",
    "# Creating the GridSearchCV object\n",
    "grid_search = GridSearchCV(rf_classifier, param_grid, cv=5, scoring='accuracy')\n",
    "\n",
    "# Training the model with hyperparameter tuning\n",
    "grid_search.fit(X_train, y_train)\n",
    "\n",
    "# Get the best parameters and the best estimator\n",
    "best_params = grid_search.best_params_\n",
    "best_rf = grid_search.best_estimator_\n",
    "\n",
    "\n",
    "print(f\"Best Parameters: {best_params}\")"
   ]
  },
  {
   "cell_type": "markdown",
   "metadata": {},
   "source": [
    "We do feature importance analysis for understanding and improving our model. It  ultimately leads to a more effective and actionable model for your project's objectives.\n",
    "  "
   ]
  },
  {
   "cell_type": "code",
   "execution_count": 30,
   "metadata": {},
   "outputs": [
    {
     "data": {
      "image/png": "[encoded data removed]",
      "text/plain": [
       "<Figure size 1000x600 with 1 Axes>"
      ]
     },
     "metadata": {},
     "output_type": "display_data"
    }
   ],
   "source": [
    "# Feature Importance Analysis\n",
    "feature_importances = rf_classifier.feature_importances_\n",
    "sorted_indices = feature_importances.argsort()[::-1]\n",
    "\n",
    "# Plot feature importances\n",
    "top_n = 20\n",
    "plt.figure(figsize=(10, 6))\n",
    "plt.bar(range(top_n), feature_importances[sorted_indices][:top_n], align=\"center\", color = '#bf49a4')\n",
    "plt.xticks(range(top_n), X_train.columns[sorted_indices][:top_n], rotation=90)\n",
    "plt.xlabel(\"Feature\")\n",
    "plt.ylabel(\"Importance\")\n",
    "plt.title(\"Top 20 Feature Importance\")\n",
    "plt.tight_layout()\n",
    "plt.show()"
   ]
  },
  {
   "cell_type": "markdown",
   "metadata": {},
   "source": [
    "### Decision Tree Classifier\n",
    "1. **Classifier with default parameters**\n",
    "\n",
    "Here I built a model with default parameters to assessed it's training and test accuracy."
   ]
  },
  {
   "cell_type": "code",
   "execution_count": 31,
   "metadata": {},
   "outputs": [
    {
     "data": {
      "text/html": [
       "<style>#sk-container-id-1 {color: black;}#sk-container-id-1 pre{padding: 0;}#sk-container-id-1 div.sk-toggleable {background-color: white;}#sk-container-id-1 label.sk-toggleable__label {cursor: pointer;display: block;width: 100%;margin-bottom: 0;padding: 0.3em;box-sizing: border-box;text-align: center;}#sk-container-id-1 label.sk-toggleable__label-arrow:before {content: \"▸\";float: left;margin-right: 0.25em;color: #696969;}#sk-container-id-1 label.sk-toggleable__label-arrow:hover:before {color: black;}#sk-container-id-1 div.sk-estimator:hover label.sk-toggleable__label-arrow:before {color: black;}#sk-container-id-1 div.sk-toggleable__content {max-height: 0;max-width: 0;overflow: hidden;text-align: left;background-color: #f0f8ff;}#sk-container-id-1 div.sk-toggleable__content pre {margin: 0.2em;color: black;border-radius: 0.25em;background-color: #f0f8ff;}#sk-container-id-1 input.sk-toggleable__control:checked~div.sk-toggleable__content {max-height: 200px;max-width: 100%;overflow: auto;}#sk-container-id-1 input.sk-toggleable__control:checked~label.sk-toggleable__label-arrow:before {content: \"▾\";}#sk-container-id-1 div.sk-estimator input.sk-toggleable__control:checked~label.sk-toggleable__label {background-color: #d4ebff;}#sk-container-id-1 div.sk-label input.sk-toggleable__control:checked~label.sk-toggleable__label {background-color: #d4ebff;}#sk-container-id-1 input.sk-hidden--visually {border: 0;clip: rect(1px 1px 1px 1px);clip: rect(1px, 1px, 1px, 1px);height: 1px;margin: -1px;overflow: hidden;padding: 0;position: absolute;width: 1px;}#sk-container-id-1 div.sk-estimator {font-family: monospace;background-color: #f0f8ff;border: 1px dotted black;border-radius: 0.25em;box-sizing: border-box;margin-bottom: 0.5em;}#sk-container-id-1 div.sk-estimator:hover {background-color: #d4ebff;}#sk-container-id-1 div.sk-parallel-item::after {content: \"\";width: 100%;border-bottom: 1px solid gray;flex-grow: 1;}#sk-container-id-1 div.sk-label:hover label.sk-toggleable__label {background-color: #d4ebff;}#sk-container-id-1 div.sk-serial::before {content: \"\";position: absolute;border-left: 1px solid gray;box-sizing: border-box;top: 0;bottom: 0;left: 50%;z-index: 0;}#sk-container-id-1 div.sk-serial {display: flex;flex-direction: column;align-items: center;background-color: white;padding-right: 0.2em;padding-left: 0.2em;position: relative;}#sk-container-id-1 div.sk-item {position: relative;z-index: 1;}#sk-container-id-1 div.sk-parallel {display: flex;align-items: stretch;justify-content: center;background-color: white;position: relative;}#sk-container-id-1 div.sk-item::before, #sk-container-id-1 div.sk-parallel-item::before {content: \"\";position: absolute;border-left: 1px solid gray;box-sizing: border-box;top: 0;bottom: 0;left: 50%;z-index: -1;}#sk-container-id-1 div.sk-parallel-item {display: flex;flex-direction: column;z-index: 1;position: relative;background-color: white;}#sk-container-id-1 div.sk-parallel-item:first-child::after {align-self: flex-end;width: 50%;}#sk-container-id-1 div.sk-parallel-item:last-child::after {align-self: flex-start;width: 50%;}#sk-container-id-1 div.sk-parallel-item:only-child::after {width: 0;}#sk-container-id-1 div.sk-dashed-wrapped {border: 1px dashed gray;margin: 0 0.4em 0.5em 0.4em;box-sizing: border-box;padding-bottom: 0.4em;background-color: white;}#sk-container-id-1 div.sk-label label {font-family: monospace;font-weight: bold;display: inline-block;line-height: 1.2em;}#sk-container-id-1 div.sk-label-container {text-align: center;}#sk-container-id-1 div.sk-container {/* jupyter's `normalize.less` sets `[hidden] { display: none; }` but bootstrap.min.css set `[hidden] { display: none !important; }` so we also need the `!important` here to be able to override the default hidden behavior on the sphinx rendered scikit-learn.org. See: https://github.com/scikit-learn/scikit-learn/issues/21755 */display: inline-block !important;position: relative;}#sk-container-id-1 div.sk-text-repr-fallback {display: none;}</style><div id=\"sk-container-id-1\" class=\"sk-top-container\"><div class=\"sk-text-repr-fallback\"><pre>DecisionTreeClassifier(random_state=42)</pre><b>In a Jupyter environment, please rerun this cell to show the HTML representation or trust the notebook. <br />On GitHub, the HTML representation is unable to render, please try loading this page with nbviewer.org.</b></div><div class=\"sk-container\" hidden><div class=\"sk-item\"><div class=\"sk-estimator sk-toggleable\"><input class=\"sk-toggleable__control sk-hidden--visually\" id=\"sk-estimator-id-1\" type=\"checkbox\" checked><label for=\"sk-estimator-id-1\" class=\"sk-toggleable__label sk-toggleable__label-arrow\">DecisionTreeClassifier</label><div class=\"sk-toggleable__content\"><pre>DecisionTreeClassifier(random_state=42)</pre></div></div></div></div></div>"
      ],
      "text/plain": [
       "DecisionTreeClassifier(random_state=42)"
      ]
     },
     "execution_count": 31,
     "metadata": {},
     "output_type": "execute_result"
    }
   ],
   "source": [
    "#instantiating clf\n",
    "dtclf = DecisionTreeClassifier(random_state= 42)\n",
    "\n",
    "#fitting the model on resampled data\n",
    "dtclf.fit(X_train_resampled, y_train_resampled)"
   ]
  },
  {
   "cell_type": "code",
   "execution_count": 32,
   "metadata": {},
   "outputs": [
    {
     "name": "stdout",
     "output_type": "stream",
     "text": [
      "Training Accuracy = 100.0%\n"
     ]
    }
   ],
   "source": [
    "#train accuracy\n",
    "training_acc = dtclf.score(X_train_resampled, y_train_resampled)\n",
    "print(f'Training Accuracy = {training_acc*100}%')"
   ]
  },
  {
   "cell_type": "code",
   "execution_count": 33,
   "metadata": {},
   "outputs": [
    {
     "name": "stdout",
     "output_type": "stream",
     "text": [
      "Testing Accuracy = 81.40929535232384%\n"
     ]
    }
   ],
   "source": [
    "#test accuracy\n",
    "testing_acc = dtclf.score(X_test, y_test)\n",
    "print(f'Testing Accuracy = {testing_acc*100}%')"
   ]
  },
  {
   "cell_type": "markdown",
   "metadata": {},
   "source": [
    "From the results above, the training accuracy is at 100% but the test accuracy is at 81%. This clearly shows that the model is overfitting. To solve this, I'll perform hyperparameter tuning using grid search and observe the possible changes.\n",
    "\n",
    "2. **Tuned classifier and fitted with pipeline.**"
   ]
  },
  {
   "cell_type": "code",
   "execution_count": 34,
   "metadata": {},
   "outputs": [
    {
     "data": {
      "text/html": [
       "<style>#sk-container-id-2 {color: black;}#sk-container-id-2 pre{padding: 0;}#sk-container-id-2 div.sk-toggleable {background-color: white;}#sk-container-id-2 label.sk-toggleable__label {cursor: pointer;display: block;width: 100%;margin-bottom: 0;padding: 0.3em;box-sizing: border-box;text-align: center;}#sk-container-id-2 label.sk-toggleable__label-arrow:before {content: \"▸\";float: left;margin-right: 0.25em;color: #696969;}#sk-container-id-2 label.sk-toggleable__label-arrow:hover:before {color: black;}#sk-container-id-2 div.sk-estimator:hover label.sk-toggleable__label-arrow:before {color: black;}#sk-container-id-2 div.sk-toggleable__content {max-height: 0;max-width: 0;overflow: hidden;text-align: left;background-color: #f0f8ff;}#sk-container-id-2 div.sk-toggleable__content pre {margin: 0.2em;color: black;border-radius: 0.25em;background-color: #f0f8ff;}#sk-container-id-2 input.sk-toggleable__control:checked~div.sk-toggleable__content {max-height: 200px;max-width: 100%;overflow: auto;}#sk-container-id-2 input.sk-toggleable__control:checked~label.sk-toggleable__label-arrow:before {content: \"▾\";}#sk-container-id-2 div.sk-estimator input.sk-toggleable__control:checked~label.sk-toggleable__label {background-color: #d4ebff;}#sk-container-id-2 div.sk-label input.sk-toggleable__control:checked~label.sk-toggleable__label {background-color: #d4ebff;}#sk-container-id-2 input.sk-hidden--visually {border: 0;clip: rect(1px 1px 1px 1px);clip: rect(1px, 1px, 1px, 1px);height: 1px;margin: -1px;overflow: hidden;padding: 0;position: absolute;width: 1px;}#sk-container-id-2 div.sk-estimator {font-family: monospace;background-color: #f0f8ff;border: 1px dotted black;border-radius: 0.25em;box-sizing: border-box;margin-bottom: 0.5em;}#sk-container-id-2 div.sk-estimator:hover {background-color: #d4ebff;}#sk-container-id-2 div.sk-parallel-item::after {content: \"\";width: 100%;border-bottom: 1px solid gray;flex-grow: 1;}#sk-container-id-2 div.sk-label:hover label.sk-toggleable__label {background-color: #d4ebff;}#sk-container-id-2 div.sk-serial::before {content: \"\";position: absolute;border-left: 1px solid gray;box-sizing: border-box;top: 0;bottom: 0;left: 50%;z-index: 0;}#sk-container-id-2 div.sk-serial {display: flex;flex-direction: column;align-items: center;background-color: white;padding-right: 0.2em;padding-left: 0.2em;position: relative;}#sk-container-id-2 div.sk-item {position: relative;z-index: 1;}#sk-container-id-2 div.sk-parallel {display: flex;align-items: stretch;justify-content: center;background-color: white;position: relative;}#sk-container-id-2 div.sk-item::before, #sk-container-id-2 div.sk-parallel-item::before {content: \"\";position: absolute;border-left: 1px solid gray;box-sizing: border-box;top: 0;bottom: 0;left: 50%;z-index: -1;}#sk-container-id-2 div.sk-parallel-item {display: flex;flex-direction: column;z-index: 1;position: relative;background-color: white;}#sk-container-id-2 div.sk-parallel-item:first-child::after {align-self: flex-end;width: 50%;}#sk-container-id-2 div.sk-parallel-item:last-child::after {align-self: flex-start;width: 50%;}#sk-container-id-2 div.sk-parallel-item:only-child::after {width: 0;}#sk-container-id-2 div.sk-dashed-wrapped {border: 1px dashed gray;margin: 0 0.4em 0.5em 0.4em;box-sizing: border-box;padding-bottom: 0.4em;background-color: white;}#sk-container-id-2 div.sk-label label {font-family: monospace;font-weight: bold;display: inline-block;line-height: 1.2em;}#sk-container-id-2 div.sk-label-container {text-align: center;}#sk-container-id-2 div.sk-container {/* jupyter's `normalize.less` sets `[hidden] { display: none; }` but bootstrap.min.css set `[hidden] { display: none !important; }` so we also need the `!important` here to be able to override the default hidden behavior on the sphinx rendered scikit-learn.org. See: https://github.com/scikit-learn/scikit-learn/issues/21755 */display: inline-block !important;position: relative;}#sk-container-id-2 div.sk-text-repr-fallback {display: none;}</style><div id=\"sk-container-id-2\" class=\"sk-top-container\"><div class=\"sk-text-repr-fallback\"><pre>GridSearchCV(cv=5,\n",
       "             estimator=Pipeline(steps=[(&#x27;mms&#x27;, StandardScaler()),\n",
       "                                       (&#x27;tree&#x27;,\n",
       "                                        DecisionTreeClassifier(random_state=42))]),\n",
       "             param_grid={&#x27;tree__criterion&#x27;: [&#x27;gini&#x27;, &#x27;entropy&#x27;],\n",
       "                         &#x27;tree__max_depth&#x27;: [1, 2, 5, 10],\n",
       "                         &#x27;tree__min_samples_split&#x27;: [5, 5, 10, 20]},\n",
       "             scoring=&#x27;accuracy&#x27;)</pre><b>In a Jupyter environment, please rerun this cell to show the HTML representation or trust the notebook. <br />On GitHub, the HTML representation is unable to render, please try loading this page with nbviewer.org.</b></div><div class=\"sk-container\" hidden><div class=\"sk-item sk-dashed-wrapped\"><div class=\"sk-label-container\"><div class=\"sk-label sk-toggleable\"><input class=\"sk-toggleable__control sk-hidden--visually\" id=\"sk-estimator-id-2\" type=\"checkbox\" ><label for=\"sk-estimator-id-2\" class=\"sk-toggleable__label sk-toggleable__label-arrow\">GridSearchCV</label><div class=\"sk-toggleable__content\"><pre>GridSearchCV(cv=5,\n",
       "             estimator=Pipeline(steps=[(&#x27;mms&#x27;, StandardScaler()),\n",
       "                                       (&#x27;tree&#x27;,\n",
       "                                        DecisionTreeClassifier(random_state=42))]),\n",
       "             param_grid={&#x27;tree__criterion&#x27;: [&#x27;gini&#x27;, &#x27;entropy&#x27;],\n",
       "                         &#x27;tree__max_depth&#x27;: [1, 2, 5, 10],\n",
       "                         &#x27;tree__min_samples_split&#x27;: [5, 5, 10, 20]},\n",
       "             scoring=&#x27;accuracy&#x27;)</pre></div></div></div><div class=\"sk-parallel\"><div class=\"sk-parallel-item\"><div class=\"sk-item\"><div class=\"sk-label-container\"><div class=\"sk-label sk-toggleable\"><input class=\"sk-toggleable__control sk-hidden--visually\" id=\"sk-estimator-id-3\" type=\"checkbox\" ><label for=\"sk-estimator-id-3\" class=\"sk-toggleable__label sk-toggleable__label-arrow\">estimator: Pipeline</label><div class=\"sk-toggleable__content\"><pre>Pipeline(steps=[(&#x27;mms&#x27;, StandardScaler()),\n",
       "                (&#x27;tree&#x27;, DecisionTreeClassifier(random_state=42))])</pre></div></div></div><div class=\"sk-serial\"><div class=\"sk-item\"><div class=\"sk-serial\"><div class=\"sk-item\"><div class=\"sk-estimator sk-toggleable\"><input class=\"sk-toggleable__control sk-hidden--visually\" id=\"sk-estimator-id-4\" type=\"checkbox\" ><label for=\"sk-estimator-id-4\" class=\"sk-toggleable__label sk-toggleable__label-arrow\">StandardScaler</label><div class=\"sk-toggleable__content\"><pre>StandardScaler()</pre></div></div></div><div class=\"sk-item\"><div class=\"sk-estimator sk-toggleable\"><input class=\"sk-toggleable__control sk-hidden--visually\" id=\"sk-estimator-id-5\" type=\"checkbox\" ><label for=\"sk-estimator-id-5\" class=\"sk-toggleable__label sk-toggleable__label-arrow\">DecisionTreeClassifier</label><div class=\"sk-toggleable__content\"><pre>DecisionTreeClassifier(random_state=42)</pre></div></div></div></div></div></div></div></div></div></div></div></div>"
      ],
      "text/plain": [
       "GridSearchCV(cv=5,\n",
       "             estimator=Pipeline(steps=[('mms', StandardScaler()),\n",
       "                                       ('tree',\n",
       "                                        DecisionTreeClassifier(random_state=42))]),\n",
       "             param_grid={'tree__criterion': ['gini', 'entropy'],\n",
       "                         'tree__max_depth': [1, 2, 5, 10],\n",
       "                         'tree__min_samples_split': [5, 5, 10, 20]},\n",
       "             scoring='accuracy')"
      ]
     },
     "execution_count": 34,
     "metadata": {},
     "output_type": "execute_result"
    }
   ],
   "source": [
    "#instantiating a pipeline\n",
    "pipe = Pipeline([('mms', StandardScaler()), \n",
    "                  ('tree',DecisionTreeClassifier(random_state= 42))])\n",
    "\n",
    "#parameters to tune\n",
    "param_grid = {'tree__criterion': ['gini', 'entropy'],\n",
    "              'tree__max_depth': [1,2,5,10],\n",
    "              'tree__min_samples_split': [5,5,10,20]}\n",
    "\n",
    "#performing grid search with 5 cross validations\n",
    "grid_search = GridSearchCV(estimator= pipe, param_grid= param_grid, scoring = 'accuracy', cv = 5)\n",
    "\n",
    "#fitting the model on the resampled data\n",
    "grid_search.fit(X_train_resampled, y_train_resampled)"
   ]
  },
  {
   "cell_type": "markdown",
   "metadata": {},
   "source": [
    "Checking the Train and Test accuracy:"
   ]
  },
  {
   "cell_type": "code",
   "execution_count": 35,
   "metadata": {
    "scrolled": true
   },
   "outputs": [
    {
     "name": "stdout",
     "output_type": "stream",
     "text": [
      "Training Accuracy = 89.90342405618964%\n"
     ]
    }
   ],
   "source": [
    "#train accuracy\n",
    "train_acc = grid_search.score(X_train_resampled, y_train_resampled)\n",
    "print(f'Training Accuracy = {train_acc*100}%')"
   ]
  },
  {
   "cell_type": "code",
   "execution_count": 36,
   "metadata": {},
   "outputs": [
    {
     "name": "stdout",
     "output_type": "stream",
     "text": [
      "Testing Accuracy = 87.25637181409296%\n"
     ]
    }
   ],
   "source": [
    "#test accuracy\n",
    "test_acc = grid_search.score(X_test, y_test)\n",
    "print(f'Testing Accuracy = {test_acc*100}%')"
   ]
  },
  {
   "cell_type": "markdown",
   "metadata": {},
   "source": [
    "From both accuracy scores, the training accuracy reduced from 100% to 88.35% while the test accuracy improved from  84% to 87%. The model is no longer overfitting after hyperparameter tuning with Grid Search.\n",
    "\n",
    "These below are the **best parameters** for the scores provided:"
   ]
  },
  {
   "cell_type": "code",
   "execution_count": 37,
   "metadata": {},
   "outputs": [
    {
     "data": {
      "text/plain": [
       "{'tree__criterion': 'entropy',\n",
       " 'tree__max_depth': 10,\n",
       " 'tree__min_samples_split': 5}"
      ]
     },
     "execution_count": 37,
     "metadata": {},
     "output_type": "execute_result"
    }
   ],
   "source": [
    "#printing best parameters\n",
    "grid_search.best_params_"
   ]
  },
  {
   "cell_type": "code",
   "execution_count": 38,
   "metadata": {},
   "outputs": [
    {
     "data": {
      "text/html": [
       "<div>\n",
       "<style scoped>\n",
       "    .dataframe tbody tr th:only-of-type {\n",
       "        vertical-align: middle;\n",
       "    }\n",
       "\n",
       "    .dataframe tbody tr th {\n",
       "        vertical-align: top;\n",
       "    }\n",
       "\n",
       "    .dataframe thead th {\n",
       "        text-align: right;\n",
       "    }\n",
       "</style>\n",
       "<table border=\"1\" class=\"dataframe\">\n",
       "  <thead>\n",
       "    <tr style=\"text-align: right;\">\n",
       "      <th></th>\n",
       "      <th>Model</th>\n",
       "      <th>Description</th>\n",
       "      <th>Num Features</th>\n",
       "      <th>Accuracy Score</th>\n",
       "    </tr>\n",
       "  </thead>\n",
       "  <tbody>\n",
       "    <tr>\n",
       "      <th>0</th>\n",
       "      <td>Baseline Model</td>\n",
       "      <td>Logistic ith all features</td>\n",
       "      <td>67</td>\n",
       "      <td>0.827</td>\n",
       "    </tr>\n",
       "    <tr>\n",
       "      <th>3</th>\n",
       "      <td>Random Forest Model</td>\n",
       "      <td>Random Forest model on all features</td>\n",
       "      <td>67</td>\n",
       "      <td>0.945</td>\n",
       "    </tr>\n",
       "    <tr>\n",
       "      <th>1</th>\n",
       "      <td>Decision Tree Model</td>\n",
       "      <td>Fitted Decision Tree Classifier on all features</td>\n",
       "      <td>67</td>\n",
       "      <td>0.873</td>\n",
       "    </tr>\n",
       "  </tbody>\n",
       "</table>\n",
       "</div>"
      ],
      "text/plain": [
       "                 Model                                      Description  \\\n",
       "0       Baseline Model                        Logistic ith all features   \n",
       "3  Random Forest Model              Random Forest model on all features   \n",
       "1  Decision Tree Model  Fitted Decision Tree Classifier on all features   \n",
       "\n",
       "    Num Features  Accuracy Score  \n",
       "0             67           0.827  \n",
       "3             67           0.945  \n",
       "1             67           0.873  "
      ]
     },
     "execution_count": 38,
     "metadata": {},
     "output_type": "execute_result"
    }
   ],
   "source": [
    "result_table.loc[1] = ['Decision Tree Model', 'Fitted Decision Tree Classifier on all features', len(model_lr.coef_[0]), round(test_acc,3)]\n",
    "result_table"
   ]
  },
  {
   "cell_type": "markdown",
   "metadata": {},
   "source": [
    "## Bagging model"
   ]
  },
  {
   "cell_type": "markdown",
   "metadata": {},
   "source": [
    "Use Bagging Classifier to build a model that accurately classify churn"
   ]
  },
  {
   "cell_type": "code",
   "execution_count": 39,
   "metadata": {},
   "outputs": [
    {
     "name": "stdout",
     "output_type": "stream",
     "text": [
      "The accuracy is 0.89 and the f1 score is 0.51\n"
     ]
    }
   ],
   "source": [
    "# Instantiate the base model estimator\n",
    "clf_dt = DecisionTreeClassifier(max_depth=3, random_state= 42)\n",
    "\n",
    "# Building the Bagging classifier \n",
    "clf_bag = BaggingClassifier(\n",
    "    estimator= clf_dt,\n",
    "    n_estimators = 5\n",
    ")\n",
    "# Fitting bagging model\n",
    "clf_bag.fit(X_train, y_train)\n",
    "# Predicting the targets\n",
    "clf_pred = clf_bag.predict(X_test)\n",
    "\n",
    "clf_accuracy = accuracy_score(y_test, clf_pred)\n",
    "clf_f1_score = f1_score(y_test, clf_pred)\n",
    "\n",
    "print(f\"The accuracy is {clf_accuracy:.2f} and the f1 score is {clf_f1_score:.2f}\")"
   ]
  },
  {
   "cell_type": "markdown",
   "metadata": {},
   "source": [
    "As seen with f1 score bagging model has greatly improved from Logistic Regression model but its not performing optimal so we can try improving it with the help GridSearchCV"
   ]
  },
  {
   "cell_type": "code",
   "execution_count": 40,
   "metadata": {},
   "outputs": [
    {
     "name": "stdout",
     "output_type": "stream",
     "text": [
      "Best Parameters: {'max_features': 0.9444444444444444, 'max_samples': 0.5, 'n_estimators': 5}\n",
      "Best Score: 0.916726746351301\n",
      "The accuracy of the model is 0.892\n",
      "The f1 score is 0.500\n"
     ]
    }
   ],
   "source": [
    "# Instantiate the base model estimator\n",
    "clf_dt_1 = DecisionTreeClassifier(max_depth=3, random_state= 42)\n",
    "\n",
    "clf_bag_1 = BaggingClassifier(\n",
    "    estimator= clf_dt_1\n",
    ")\n",
    "\n",
    "# Define the parameter grid you want to search\n",
    "param_grid = {\n",
    "    'n_estimators': [5,10,15],\n",
    "    'max_samples': np.linspace(0.5, 1, 10),\n",
    "    'max_features': np.linspace(0.5, 1, 10)\n",
    "}\n",
    "\n",
    "kf = KFold(n_splits=5, shuffle=True, random_state=123)\n",
    "\n",
    "# Instantiate GridSearchCV\n",
    "grid_search = GridSearchCV(\n",
    "    estimator=clf_bag_1,\n",
    "    param_grid=param_grid,\n",
    "    scoring='accuracy',  \n",
    "    cv=kf  \n",
    ")\n",
    "\n",
    "# Fit the GridSearchCV object to your data\n",
    "grid_search.fit(X_train, y_train)  \n",
    "\n",
    "# Print the best parameters and best score\n",
    "print(f\"Best Parameters: {grid_search.best_params_}\")\n",
    "print(f\"Best Score: {grid_search.best_score_}\")\n",
    "\n",
    "best_model = grid_search.best_estimator_\n",
    "\n",
    "# Predicting the target variable\n",
    "grid_pred = best_model.predict(X_test)\n",
    "\n",
    "grid_accuracy = accuracy_score(y_test, grid_pred)\n",
    "grid_f1_score = f1_score(y_test, grid_pred)\n",
    "\n",
    "print(f\"The accuracy of the model is {grid_accuracy:.3f}\")\n",
    "print(f\"The f1 score is {grid_f1_score:.3f}\")"
   ]
  },
  {
   "cell_type": "code",
   "execution_count": 41,
   "metadata": {},
   "outputs": [
    {
     "data": {
      "text/html": [
       "<div>\n",
       "<style scoped>\n",
       "    .dataframe tbody tr th:only-of-type {\n",
       "        vertical-align: middle;\n",
       "    }\n",
       "\n",
       "    .dataframe tbody tr th {\n",
       "        vertical-align: top;\n",
       "    }\n",
       "\n",
       "    .dataframe thead th {\n",
       "        text-align: right;\n",
       "    }\n",
       "</style>\n",
       "<table border=\"1\" class=\"dataframe\">\n",
       "  <thead>\n",
       "    <tr style=\"text-align: right;\">\n",
       "      <th></th>\n",
       "      <th>Model</th>\n",
       "      <th>Description</th>\n",
       "      <th>Num Features</th>\n",
       "      <th>Accuracy Score</th>\n",
       "    </tr>\n",
       "  </thead>\n",
       "  <tbody>\n",
       "    <tr>\n",
       "      <th>0</th>\n",
       "      <td>Baseline Model</td>\n",
       "      <td>Logistic ith all features</td>\n",
       "      <td>67</td>\n",
       "      <td>0.827</td>\n",
       "    </tr>\n",
       "    <tr>\n",
       "      <th>3</th>\n",
       "      <td>Random Forest Model</td>\n",
       "      <td>Random Forest model on all features</td>\n",
       "      <td>67</td>\n",
       "      <td>0.945</td>\n",
       "    </tr>\n",
       "    <tr>\n",
       "      <th>1</th>\n",
       "      <td>Decision Tree Model</td>\n",
       "      <td>Fitted Decision Tree Classifier on all features</td>\n",
       "      <td>67</td>\n",
       "      <td>0.873</td>\n",
       "    </tr>\n",
       "    <tr>\n",
       "      <th>2</th>\n",
       "      <td>Bagging Model</td>\n",
       "      <td>Bagging Classifier with DecisionTreeClassifier...</td>\n",
       "      <td>67</td>\n",
       "      <td>0.892</td>\n",
       "    </tr>\n",
       "  </tbody>\n",
       "</table>\n",
       "</div>"
      ],
      "text/plain": [
       "                 Model                                        Description  \\\n",
       "0       Baseline Model                          Logistic ith all features   \n",
       "3  Random Forest Model                Random Forest model on all features   \n",
       "1  Decision Tree Model    Fitted Decision Tree Classifier on all features   \n",
       "2        Bagging Model  Bagging Classifier with DecisionTreeClassifier...   \n",
       "\n",
       "    Num Features  Accuracy Score  \n",
       "0             67           0.827  \n",
       "3             67           0.945  \n",
       "1             67           0.873  \n",
       "2             67           0.892  "
      ]
     },
     "execution_count": 41,
     "metadata": {},
     "output_type": "execute_result"
    }
   ],
   "source": [
    "result_table.loc[2] = ['Bagging Model', 'Bagging Classifier with DecisionTreeClassifier as the weak learner', len(model_lr.coef_[0]), round(grid_accuracy,3)]\n",
    "result_table"
   ]
  },
  {
   "cell_type": "markdown",
   "metadata": {},
   "source": [
    "## KNN Model"
   ]
  },
  {
   "cell_type": "markdown",
   "metadata": {},
   "source": [
    "We will normalize the data and transform the training and test sets"
   ]
  },
  {
   "cell_type": "code",
   "execution_count": 42,
   "metadata": {},
   "outputs": [],
   "source": [
    "# Instantiate StandardScaler\n",
    "scaler = StandardScaler()\n",
    "\n",
    "# Transform the training and test sets\n",
    "scaled_data_train = scaler.fit_transform(X_train)\n",
    "scaled_data_test = scaler.transform(X_test)"
   ]
  },
  {
   "cell_type": "markdown",
   "metadata": {},
   "source": [
    "We then fit a KNN Model and predict the test set"
   ]
  },
  {
   "cell_type": "code",
   "execution_count": 47,
   "metadata": {},
   "outputs": [],
   "source": [
    "# Instantiate KNeighborsClassifier\n",
    "clf = KNeighborsClassifier()\n",
    "\n",
    "# Fit the classifier\n",
    "clf.fit(scaled_data_train, y_train)\n",
    "\n",
    "# Predict on the test set\n",
    "test_preds = clf.predict(scaled_data_test)"
   ]
  },
  {
   "cell_type": "markdown",
   "metadata": {},
   "source": [
    "We then evaluate the model checking the precision score, recall score, accuracy score and f1score"
   ]
  },
  {
   "cell_type": "code",
   "execution_count": 48,
   "metadata": {},
   "outputs": [
    {
     "name": "stdout",
     "output_type": "stream",
     "text": [
      "Precision Score: 0.8311391234516828\n",
      "Recall Score: 0.8620689655172413\n",
      "Accuracy Score: 0.8620689655172413\n",
      "F1 Score: 0.814318959787824\n"
     ]
    }
   ],
   "source": [
    "def print_metrics(labels, preds):\n",
    "    precision = precision_score(labels, preds, average='weighted')\n",
    "    recall = recall_score(labels, preds, average='weighted')\n",
    "    accuracy = accuracy_score(labels, preds)\n",
    "    f1 = f1_score(labels, preds, average='weighted')\n",
    "\n",
    "\n",
    "    print(\"Precision Score: {}\".format(precision))\n",
    "    print(\"Recall Score: {}\".format(recall))\n",
    "    print(\"Accuracy Score: {}\".format(accuracy))\n",
    "    print(\"F1 Score: {}\".format(f1))\n",
    "    \n",
    "print_metrics(y_test, test_preds)"
   ]
  },
  {
   "cell_type": "markdown",
   "metadata": {},
   "source": [
    "We then try and improve the model performance"
   ]
  },
  {
   "cell_type": "code",
   "execution_count": 49,
   "metadata": {},
   "outputs": [
    {
     "name": "stdout",
     "output_type": "stream",
     "text": [
      "Best k: 3\n",
      "Best F1-Score: 0.8232766307576319\n"
     ]
    }
   ],
   "source": [
    "result_table.loc[4] = ['KNN Model', 'KNN model with all features', len(model_lr.coef_[0]), round(accuracy,3)]\n",
    "\n",
    "min_k = 1\n",
    "max_k = 20\n",
    "best_k = None\n",
    "best_score = 0\n",
    "\n",
    "#Iterate through every odd number between min_k and max_k + 1.\n",
    "for k in range(min_k, max_k + 1, 2):\n",
    "    knn = KNeighborsClassifier(n_neighbors=k) #Create a new KNN classifier, and set the n_neighbors parameter to the current value for k, as determined by the loop\n",
    "    knn.fit(X_train_scaled, y_train) #Fit this classifier to the training data\n",
    "    y_pred = knn.predict(X_test_scaled) #Generate predictions for X_test using the fitted classifier\n",
    "    f1 = f1_score(y_test, y_pred, average='weighted')\n",
    "    \n",
    "    if f1 > best_score:\n",
    "        best_score = f1\n",
    "        best_k = k\n",
    "\n",
    "print(\"Best k:\", best_k)\n",
    "print(\"Best F1-Score:\", best_score)"
   ]
  },
  {
   "cell_type": "markdown",
   "metadata": {},
   "source": [
    "##  XGBoost model \n",
    "XGBoost to build a model that can accurately classify churn  on the features of the dataset!\n"
   ]
  },
  {
   "cell_type": "code",
   "execution_count": 50,
   "metadata": {},
   "outputs": [
    {
     "data": {
      "text/plain": [
       "churn\n",
       "0    2278\n",
       "1     388\n",
       "Name: count, dtype: int64"
      ]
     },
     "execution_count": 50,
     "metadata": {},
     "output_type": "execute_result"
    }
   ],
   "source": [
    "# Currrent target values\n",
    "y_train.value_counts().sort_index()"
   ]
  },
  {
   "cell_type": "code",
   "execution_count": 51,
   "metadata": {},
   "outputs": [],
   "source": [
    "# Instantiate the encoder\n",
    "encoder = LabelEncoder()\n",
    "\n",
    "# Fit and transform the training data\n",
    "y_train_encoded = encoder.fit_transform(y_train)\n",
    "\n",
    "# Transform the test data\n",
    "y_train_encoded = encoder.transform(y_test)"
   ]
  },
  {
   "cell_type": "code",
   "execution_count": 52,
   "metadata": {},
   "outputs": [
    {
     "name": "stdout",
     "output_type": "stream",
     "text": [
      "Training Accuracy: 100.0%\n",
      "Testing  accuracy: 95.2%\n"
     ]
    }
   ],
   "source": [
    "\n",
    "# Instantiate XGBClassifier\n",
    "clf = xgb.XGBClassifier()\n",
    "\n",
    "# Fit XGBClassifier\n",
    "clf.fit(X_train, y_train)\n",
    "\n",
    "# Predict on training and test sets\n",
    "training_preds = clf.predict(X_train)\n",
    "test_preds = clf.predict(X_test)\n",
    "\n",
    "# Accuracy of training and test sets\n",
    "training_accuracy = accuracy_score(y_train, training_preds)\n",
    "test_accuracy = accuracy_score(y_test, test_preds)\n",
    "\n",
    "\n",
    "print('Training Accuracy: {:.4}%'.format(training_accuracy * 100))\n",
    "print('Testing  accuracy: {:.4}%'.format(test_accuracy * 100))"
   ]
  },
  {
   "cell_type": "markdown",
   "metadata": {},
   "source": [
    "Tune our XGBoost model using the grid search methodology."
   ]
  },
  {
   "cell_type": "code",
   "execution_count": 53,
   "metadata": {},
   "outputs": [
    {
     "name": "stdout",
     "output_type": "stream",
     "text": [
      "Grid Search found the following optimal parameters: \n",
      "learning_rate: 1\n",
      "max_depth: 5\n",
      "n_estimators: 5\n",
      "\n",
      "Training Accuracy: 96.92%\n",
      "Testing accuracy: 94.9%\n"
     ]
    }
   ],
   "source": [
    "# Create the XGBClassifier model.\n",
    "clf = xgb.XGBClassifier()\n",
    "\n",
    "# Create the parameter grid\n",
    "params = {\n",
    "    'n_estimators': [5, 5, 5],\n",
    "    'learning_rate': [0.01, 0.1, 1],\n",
    "    'max_depth': [3, 5, 7]\n",
    "}\n",
    "\n",
    "# Create the GridSearchCV object\n",
    "grid_clf = GridSearchCV(clf, params, scoring='accuracy', cv=None, n_jobs=1)\n",
    "\n",
    "# Fit the GridSearchCV object\n",
    "grid_clf.fit(X_train, y_train)\n",
    "\n",
    "# Store the best parameter combination found by the grid search\n",
    "best_parameters = grid_clf.best_params_\n",
    "\n",
    "print('Grid Search found the following optimal parameters: ')\n",
    "for param_name in sorted(best_parameters.keys()):\n",
    "    print('%s: %r' % (param_name, best_parameters[param_name]))\n",
    "\n",
    "# Make predictions on the training and test sets\n",
    "training_preds = grid_clf.predict(X_train)\n",
    "test_preds = grid_clf.predict(X_test)\n",
    "\n",
    "# Calculate the accuracy scores\n",
    "training_accuracy = accuracy_score(y_train, training_preds)\n",
    "test_accuracy = accuracy_score(y_test, test_preds)\n",
    "\n",
    "print('')\n",
    "print('Training Accuracy: {:.4}%'.format(training_accuracy * 100))\n",
    "print('Testing accuracy: {:.4}%'.format(test_accuracy * 100))\n"
   ]
  },
  {
   "cell_type": "code",
   "execution_count": 54,
   "metadata": {},
   "outputs": [
    {
     "data": {
      "text/html": [
       "<div>\n",
       "<style scoped>\n",
       "    .dataframe tbody tr th:only-of-type {\n",
       "        vertical-align: middle;\n",
       "    }\n",
       "\n",
       "    .dataframe tbody tr th {\n",
       "        vertical-align: top;\n",
       "    }\n",
       "\n",
       "    .dataframe thead th {\n",
       "        text-align: right;\n",
       "    }\n",
       "</style>\n",
       "<table border=\"1\" class=\"dataframe\">\n",
       "  <thead>\n",
       "    <tr style=\"text-align: right;\">\n",
       "      <th></th>\n",
       "      <th>Model</th>\n",
       "      <th>Description</th>\n",
       "      <th>Num Features</th>\n",
       "      <th>Accuracy Score</th>\n",
       "    </tr>\n",
       "  </thead>\n",
       "  <tbody>\n",
       "    <tr>\n",
       "      <th>0</th>\n",
       "      <td>Baseline Model</td>\n",
       "      <td>Logistic ith all features</td>\n",
       "      <td>67</td>\n",
       "      <td>0.827</td>\n",
       "    </tr>\n",
       "    <tr>\n",
       "      <th>3</th>\n",
       "      <td>Random Forest Model</td>\n",
       "      <td>Random Forest model on all features</td>\n",
       "      <td>67</td>\n",
       "      <td>0.945</td>\n",
       "    </tr>\n",
       "    <tr>\n",
       "      <th>1</th>\n",
       "      <td>Decision Tree Model</td>\n",
       "      <td>Fitted Decision Tree Classifier on all features</td>\n",
       "      <td>67</td>\n",
       "      <td>0.873</td>\n",
       "    </tr>\n",
       "    <tr>\n",
       "      <th>2</th>\n",
       "      <td>Bagging Model</td>\n",
       "      <td>Bagging Classifier with DecisionTreeClassifier...</td>\n",
       "      <td>67</td>\n",
       "      <td>0.892</td>\n",
       "    </tr>\n",
       "    <tr>\n",
       "      <th>4</th>\n",
       "      <td>KNN Model</td>\n",
       "      <td>KNN model with all features</td>\n",
       "      <td>67</td>\n",
       "      <td>0.945</td>\n",
       "    </tr>\n",
       "    <tr>\n",
       "      <th>5</th>\n",
       "      <td>XGBoost model</td>\n",
       "      <td>XGBoost model with all features</td>\n",
       "      <td>67</td>\n",
       "      <td>0.949</td>\n",
       "    </tr>\n",
       "  </tbody>\n",
       "</table>\n",
       "</div>"
      ],
      "text/plain": [
       "                 Model                                        Description  \\\n",
       "0       Baseline Model                          Logistic ith all features   \n",
       "3  Random Forest Model                Random Forest model on all features   \n",
       "1  Decision Tree Model    Fitted Decision Tree Classifier on all features   \n",
       "2        Bagging Model  Bagging Classifier with DecisionTreeClassifier...   \n",
       "4            KNN Model                        KNN model with all features   \n",
       "5        XGBoost model                    XGBoost model with all features   \n",
       "\n",
       "    Num Features  Accuracy Score  \n",
       "0             67           0.827  \n",
       "3             67           0.945  \n",
       "1             67           0.873  \n",
       "2             67           0.892  \n",
       "4             67           0.945  \n",
       "5             67           0.949  "
      ]
     },
     "execution_count": 54,
     "metadata": {},
     "output_type": "execute_result"
    }
   ],
   "source": [
    "result_table.loc[5] = ['XGBoost model', 'XGBoost model with all features', len(model_lr.coef_[0]), round(test_accuracy,3)]\n",
    "result_table"
   ]
  },
  {
   "cell_type": "code",
   "execution_count": 55,
   "metadata": {},
   "outputs": [
    {
     "data": {
      "image/png": "[encoded data removed]",
      "text/plain": [
       "<Figure size 1500x500 with 1 Axes>"
      ]
     },
     "metadata": {},
     "output_type": "display_data"
    }
   ],
   "source": [
    "fig, ax = plt.subplots(figsize = (15,5))\n",
    "sns.barplot(x = result_table['Model'], y = result_table['Accuracy Score'], color = '#bf49a4')\n",
    "plt.suptitle('Accuracy Scores', size = 20);"
   ]
  },
  {
   "cell_type": "code",
   "execution_count": 58,
   "metadata": {},
   "outputs": [],
   "source": [
    "#storing the model\n",
    "with open('xgmodel.pkl', 'wb') as f:\n",
    "    joblib.dump(grid_clf, f)"
   ]
  },
  {
   "cell_type": "markdown",
   "metadata": {},
   "source": [
    "## Conclusion\n",
    "The best Model was the XGBoost model which showed a high test accuracy and did not overfit the training data.\n",
    "\n",
    "Why accuracy?\n",
    "Accuracy provides a quick way to assess the model's general predictive power without delving into the details of true positives, true negatives, false positives, and false negatives.\n",
    "\n",
    "In conclusion, the predictive modeling efforts aimed at forecasting customer churn for Syriatel have yielded promising results. Among the various models evaluated, the XGBoost model emerged as the most effective, achieving an impressive accuracy rate of approximately 95%. This outcome underscores the potential of utilizing advanced machine learning techniques to accurately identify customers who are likely to churn. By leveraging a rich set of features and employing an ensemble-based approach, the XGBoost model demonstrates its robustness and ability to discern patterns that contribute to churn behavior. "
   ]
  },
  {
   "cell_type": "markdown",
   "metadata": {},
   "source": [
    "## Recommendations\n",
    "**Personalized Customer Engagement:** Utilize the insights gained from the predictive model to personalize customer engagement strategies. Tailored communication, offers, and incentives can be designed to target specific customer segments at risk of churn. By addressing individual needs and concerns, Syriatel can increase customer satisfaction and loyalty.\n",
    "\n",
    "**Proactive Customer Support:** Leverage the predictive model to proactively identify customers with a higher likelihood of churn and offer them dedicated customer support. Timely intervention through personalized assistance, such as troubleshooting technical issues or addressing service inquiries, can help resolve concerns and improve customer satisfaction.\n",
    "\n",
    "**Daytime Call Charge Optimization:**  Given the observation that daytime call charges are relatively higher compared to evening and night charges, Syriatel could consider a strategic reduction in daytime call charges. This reduction could be designed to align more closely with the actual average call duration during daytime hours. By offering more competitive and cost-effective daytime call rates, Syriatel can incentivize customers to utilize its services during this period, potentially leading to increased usage and customer retention. Additionally, transparent communication about the reduced charges can enhance customer perception of value, further encouraging loyalty and reducing the likelihood of churn."
   ]
  }
 ],
 "metadata": {
  "kernelspec": {
   "display_name": "Python 3 (ipykernel)",
   "language": "python",
   "name": "python3"
  },
  "language_info": {
   "codemirror_mode": {
    "name": "ipython",
    "version": 3
   },
   "file_extension": ".py",
   "mimetype": "text/x-python",
   "name": "python",
   "nbconvert_exporter": "python",
   "pygments_lexer": "ipython3",
   "version": "3.10.11"
  },
  "toc": {
   "base_numbering": 1,
   "nav_menu": {},
   "number_sections": true,
   "sideBar": false,
   "skip_h1_title": true,
   "title_cell": "Table of Contents",
   "title_sidebar": "Contents",
   "toc_cell": true,
   "toc_position": {
    "height": "calc(100% - 180px)",
    "left": "10px",
    "top": "150px",
    "width": "217.225px"
   },
   "toc_section_display": false,
   "toc_window_display": true
  }
 },
 "nbformat": 4,
 "nbformat_minor": 2
}
